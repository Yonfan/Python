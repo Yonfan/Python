{
 "cells": [
  {
   "cell_type": "markdown",
   "metadata": {},
   "source": [
    "# 3.数据预处理--处理缺失值"
   ]
  },
  {
   "cell_type": "markdown",
   "metadata": {},
   "source": [
    "<p>现实数据集中经常会出现缺失值，Pandas提供两种类型的缺失值标签：None和NaN（Not a Number）。None为object类型，NaN为浮点型。</p>\n",
    "<p>Pandas还提供了一些方法来发现、剔除和替换数据中的缺失值。</p>\n",
    "\n",
    "* isnull(): 创建一个布尔类型的掩码标签缺失值。\n",
    "\n",
    "* notnull(): 与isnull()操作相反。\n",
    "\n",
    "* dropna(): 返回一个剔除了缺失值的数据副本。\n",
    "\n",
    "* fillna(): 返回一个填充了缺失值的数据副本。"
   ]
  },
  {
   "cell_type": "markdown",
   "metadata": {},
   "source": [
    "<font color=blue>1）判断缺失值</font>"
   ]
  },
  {
   "cell_type": "code",
   "execution_count": 5,
   "metadata": {},
   "outputs": [
    {
     "data": {
      "text/plain": [
       "0    False\n",
       "1     True\n",
       "2    False\n",
       "3     True\n",
       "dtype: bool"
      ]
     },
     "execution_count": 5,
     "metadata": {},
     "output_type": "execute_result"
    }
   ],
   "source": [
    "import pandas as pd\n",
    "import numpy as np\n",
    "import os\n",
    "\n",
    "data = pd.Series([1, np.nan, 'hello', None])\n",
    "data.isnull()"
   ]
  },
  {
   "cell_type": "code",
   "execution_count": 3,
   "metadata": {},
   "outputs": [
    {
     "data": {
      "text/plain": [
       "0     True\n",
       "1    False\n",
       "2     True\n",
       "3    False\n",
       "dtype: bool"
      ]
     },
     "execution_count": 3,
     "metadata": {},
     "output_type": "execute_result"
    }
   ],
   "source": [
    "data.notnull()"
   ]
  },
  {
   "cell_type": "markdown",
   "metadata": {},
   "source": [
    "<font color=blue>2）筛选包含缺失值的数据"
   ]
  },
  {
   "cell_type": "code",
   "execution_count": 15,
   "metadata": {},
   "outputs": [
    {
     "name": "stdout",
     "output_type": "stream",
     "text": [
      "<class 'pandas.core.frame.DataFrame'>\n",
      "RangeIndex: 15547 entries, 0 to 15546\n",
      "Data columns (total 5 columns):\n",
      "year      15547 non-null int64\n",
      "month     15547 non-null int64\n",
      "day       15067 non-null float64\n",
      "gender    15547 non-null object\n",
      "births    15547 non-null int64\n",
      "dtypes: float64(1), int64(3), object(1)\n",
      "memory usage: 607.4+ KB\n"
     ]
    }
   ],
   "source": [
    "csv_file = open(os.getcwd() + os.path.sep + 'births.csv')\n",
    "file = pd.read_csv(csv_file)\n",
    "\n",
    "df = pd.DataFrame(file)\n",
    "df.info()"
   ]
  },
  {
   "cell_type": "code",
   "execution_count": 16,
   "metadata": {},
   "outputs": [
    {
     "name": "stdout",
     "output_type": "stream",
     "text": [
      "<class 'pandas.core.frame.DataFrame'>\n",
      "Int64Index: 480 entries, 15067 to 15546\n",
      "Data columns (total 5 columns):\n",
      "year      480 non-null int64\n",
      "month     480 non-null int64\n",
      "day       0 non-null float64\n",
      "gender    480 non-null object\n",
      "births    480 non-null int64\n",
      "dtypes: float64(1), int64(3), object(1)\n",
      "memory usage: 22.5+ KB\n"
     ]
    }
   ],
   "source": [
    "# drop_duplicates() 使一行中有多个缺失值的数据仍然只输出一行\n",
    "na_data=df[df.isnull().values==True].drop_duplicates()\n",
    "na_data.info()"
   ]
  },
  {
   "cell_type": "markdown",
   "metadata": {},
   "source": [
    "<font color=blue>3）剔除缺失值"
   ]
  },
  {
   "cell_type": "code",
   "execution_count": 17,
   "metadata": {},
   "outputs": [
    {
     "name": "stdout",
     "output_type": "stream",
     "text": [
      "<class 'pandas.core.frame.DataFrame'>\n",
      "Int64Index: 15067 entries, 0 to 15066\n",
      "Data columns (total 5 columns):\n",
      "year      15067 non-null int64\n",
      "month     15067 non-null int64\n",
      "day       15067 non-null float64\n",
      "gender    15067 non-null object\n",
      "births    15067 non-null int64\n",
      "dtypes: float64(1), int64(3), object(1)\n",
      "memory usage: 706.3+ KB\n"
     ]
    }
   ],
   "source": [
    "df_nona = df.dropna()\n",
    "df_nona.info()"
   ]
  },
  {
   "cell_type": "markdown",
   "metadata": {},
   "source": [
    "默认情况下，dropna()会剔除<b>任何</b>包含缺失值的<b>整行</b>数据。"
   ]
  },
  {
   "cell_type": "code",
   "execution_count": 18,
   "metadata": {},
   "outputs": [
    {
     "name": "stdout",
     "output_type": "stream",
     "text": [
      "<class 'pandas.core.frame.DataFrame'>\n",
      "RangeIndex: 15547 entries, 0 to 15546\n",
      "Data columns (total 4 columns):\n",
      "year      15547 non-null int64\n",
      "month     15547 non-null int64\n",
      "gender    15547 non-null object\n",
      "births    15547 non-null int64\n",
      "dtypes: int64(3), object(1)\n",
      "memory usage: 485.9+ KB\n"
     ]
    }
   ],
   "source": [
    "df_nona = df.dropna(axis=1)\n",
    "df_nona.info()"
   ]
  },
  {
   "cell_type": "markdown",
   "metadata": {},
   "source": [
    "df.dropna(axis=1)和df.dropna(axis='columns')会剔除<b>任何</b>包含缺失值的<b>整列</b>数据。\n",
    "\n",
    "可以通过设置 how 和 thresh 参数来设置剔除数据中包含缺失值的阈值。"
   ]
  },
  {
   "cell_type": "code",
   "execution_count": 20,
   "metadata": {},
   "outputs": [
    {
     "name": "stdout",
     "output_type": "stream",
     "text": [
      "<class 'pandas.core.frame.DataFrame'>\n",
      "Int64Index: 15547 entries, 0 to 15546\n",
      "Data columns (total 5 columns):\n",
      "year      15547 non-null int64\n",
      "month     15547 non-null int64\n",
      "day       15067 non-null float64\n",
      "gender    15547 non-null object\n",
      "births    15547 non-null int64\n",
      "dtypes: float64(1), int64(3), object(1)\n",
      "memory usage: 728.8+ KB\n"
     ]
    }
   ],
   "source": [
    "df_nona = df.dropna(how='all')\n",
    "df_nona.info()"
   ]
  },
  {
   "cell_type": "markdown",
   "metadata": {},
   "source": [
    "<font color=blue>4）填充缺失值</font>\n",
    "<p>Pandas提供的 fillna() 方法可以用来填充缺失值，其中 method 参数（可取 ffill 和 bfill）可以指定填充的方式，ffill用前面的有效值填充，而bfill用后面的有效值填充。</p>"
   ]
  },
  {
   "cell_type": "code",
   "execution_count": 21,
   "metadata": {},
   "outputs": [
    {
     "name": "stdout",
     "output_type": "stream",
     "text": [
      "<class 'pandas.core.frame.DataFrame'>\n",
      "RangeIndex: 15547 entries, 0 to 15546\n",
      "Data columns (total 5 columns):\n",
      "year      15547 non-null int64\n",
      "month     15547 non-null int64\n",
      "day       15547 non-null float64\n",
      "gender    15547 non-null object\n",
      "births    15547 non-null int64\n",
      "dtypes: float64(1), int64(3), object(1)\n",
      "memory usage: 607.4+ KB\n"
     ]
    }
   ],
   "source": [
    "df_nona = df.fillna(0)\n",
    "df_nona.info()"
   ]
  },
  {
   "cell_type": "markdown",
   "metadata": {},
   "source": [
    "对比填充前后数据行的变化："
   ]
  },
  {
   "cell_type": "code",
   "execution_count": 39,
   "metadata": {},
   "outputs": [
    {
     "data": {
      "text/plain": [
       "480"
      ]
     },
     "execution_count": 39,
     "metadata": {},
     "output_type": "execute_result"
    }
   ],
   "source": [
    "na_idx = df[df.isnull().values==True].index.tolist()\n",
    "len(na_idx)"
   ]
  },
  {
   "cell_type": "code",
   "execution_count": 30,
   "metadata": {},
   "outputs": [
    {
     "data": {
      "text/plain": [
       "year        1989\n",
       "month          1\n",
       "day          NaN\n",
       "gender         F\n",
       "births    156749\n",
       "Name: 15067, dtype: object"
      ]
     },
     "execution_count": 30,
     "metadata": {},
     "output_type": "execute_result"
    }
   ],
   "source": [
    "df.loc[na_idx[0]]"
   ]
  },
  {
   "cell_type": "code",
   "execution_count": 27,
   "metadata": {},
   "outputs": [
    {
     "data": {
      "text/plain": [
       "year        1989\n",
       "month          1\n",
       "day            0\n",
       "gender         F\n",
       "births    156749\n",
       "Name: 15067, dtype: object"
      ]
     },
     "execution_count": 27,
     "metadata": {},
     "output_type": "execute_result"
    }
   ],
   "source": [
    "df_nona.loc[na_idx[0]]"
   ]
  },
  {
   "cell_type": "code",
   "execution_count": 28,
   "metadata": {},
   "outputs": [
    {
     "data": {
      "text/plain": [
       "year        1989\n",
       "month          1\n",
       "day           31\n",
       "gender         F\n",
       "births    156749\n",
       "Name: 15067, dtype: object"
      ]
     },
     "execution_count": 28,
     "metadata": {},
     "output_type": "execute_result"
    }
   ],
   "source": [
    "df_nona = df.fillna(method='ffill')\n",
    "df_nona.loc[na_idx[0]]"
   ]
  },
  {
   "cell_type": "code",
   "execution_count": 29,
   "metadata": {},
   "outputs": [
    {
     "data": {
      "text/plain": [
       "year        1989\n",
       "month          1\n",
       "day          NaN\n",
       "gender         F\n",
       "births    156749\n",
       "Name: 15067, dtype: object"
      ]
     },
     "execution_count": 29,
     "metadata": {},
     "output_type": "execute_result"
    }
   ],
   "source": [
    "df_nona = df.fillna(method='bfill')\n",
    "df_nona.loc[na_idx[0]]"
   ]
  },
  {
   "cell_type": "markdown",
   "metadata": {},
   "source": [
    "此时，仍然为NaN，这是因为从这行开始直到最后一行，该字段的值均为NaN，即后面没有有效值了。因此，使用bfill方法没有效果。因此，在填充后要注意检查结果，确定所有的NaN都被填充。\n",
    "\n",
    "确认最后一条包含Nan的数据是否是数据集中的最后一行。"
   ]
  },
  {
   "cell_type": "code",
   "execution_count": 41,
   "metadata": {},
   "outputs": [
    {
     "data": {
      "text/plain": [
       "15546"
      ]
     },
     "execution_count": 41,
     "metadata": {},
     "output_type": "execute_result"
    }
   ],
   "source": [
    "na_idx[-1]"
   ]
  },
  {
   "cell_type": "markdown",
   "metadata": {},
   "source": [
    "fillna()方法还可以通过axis参数指定从前一行（axis=0）或者前一列（axis=1）获取有效值"
   ]
  },
  {
   "cell_type": "code",
   "execution_count": 35,
   "metadata": {},
   "outputs": [
    {
     "data": {
      "text/plain": [
       "year        1989\n",
       "month          1\n",
       "day            1\n",
       "gender         F\n",
       "births    156749\n",
       "Name: 15067, dtype: object"
      ]
     },
     "execution_count": 35,
     "metadata": {},
     "output_type": "execute_result"
    }
   ],
   "source": [
    "df_nona = df.fillna(method='ffill',axis=1)\n",
    "df_nona.loc[na_idx[0]]"
   ]
  },
  {
   "cell_type": "markdown",
   "metadata": {},
   "source": [
    "利用平均值填充也是常用的填充方式"
   ]
  },
  {
   "cell_type": "code",
   "execution_count": 47,
   "metadata": {},
   "outputs": [
    {
     "data": {
      "text/plain": [
       "year         1989\n",
       "month           1\n",
       "day       17.7699\n",
       "gender          F\n",
       "births     156749\n",
       "Name: 15067, dtype: object"
      ]
     },
     "execution_count": 47,
     "metadata": {},
     "output_type": "execute_result"
    }
   ],
   "source": [
    "fill = df['day'].mean()\n",
    "df_nona = df.fillna(fill)\n",
    "df_nona.loc[na_idx[0]]"
   ]
  }
 ],
 "metadata": {
  "kernelspec": {
   "display_name": "Python 3",
   "language": "python",
   "name": "python3"
  },
  "language_info": {
   "codemirror_mode": {
    "name": "ipython",
    "version": 3
   },
   "file_extension": ".py",
   "mimetype": "text/x-python",
   "name": "python",
   "nbconvert_exporter": "python",
   "pygments_lexer": "ipython3",
   "version": "3.7.1"
  }
 },
 "nbformat": 4,
 "nbformat_minor": 2
}
