{
 "cells": [
  {
   "cell_type": "markdown",
   "metadata": {},
   "source": [
    "# 医院销售数据分析"
   ]
  },
  {
   "cell_type": "markdown",
   "metadata": {},
   "source": [
    "假设以某医院2018年销售数据为例，目的是了解朝阳医院在2018年里的销售情况，这就需要知道几个业务指标，例如：月均消费次数，月均消费金额、客单价以及消费趋势。"
   ]
  },
  {
   "cell_type": "markdown",
   "metadata": {},
   "source": [
    "- 先导入包，然后读取数据，读取的时候用Object读取，防止有些数据读不了："
   ]
  },
  {
   "cell_type": "code",
   "execution_count": 3,
   "metadata": {},
   "outputs": [
    {
     "data": {
      "text/html": [
       "<div>\n",
       "<style scoped>\n",
       "    .dataframe tbody tr th:only-of-type {\n",
       "        vertical-align: middle;\n",
       "    }\n",
       "\n",
       "    .dataframe tbody tr th {\n",
       "        vertical-align: top;\n",
       "    }\n",
       "\n",
       "    .dataframe thead th {\n",
       "        text-align: right;\n",
       "    }\n",
       "</style>\n",
       "<table border=\"1\" class=\"dataframe\">\n",
       "  <thead>\n",
       "    <tr style=\"text-align: right;\">\n",
       "      <th></th>\n",
       "      <th>购药时间</th>\n",
       "      <th>社保卡号</th>\n",
       "      <th>商品编码</th>\n",
       "      <th>商品名称</th>\n",
       "      <th>销售数量</th>\n",
       "      <th>应收金额</th>\n",
       "      <th>实收金额</th>\n",
       "    </tr>\n",
       "  </thead>\n",
       "  <tbody>\n",
       "    <tr>\n",
       "      <th>0</th>\n",
       "      <td>2018-01-01 星期五</td>\n",
       "      <td>001616528</td>\n",
       "      <td>236701</td>\n",
       "      <td>强力VC银翘片</td>\n",
       "      <td>6</td>\n",
       "      <td>82.8</td>\n",
       "      <td>69</td>\n",
       "    </tr>\n",
       "    <tr>\n",
       "      <th>1</th>\n",
       "      <td>2018-01-02 星期六</td>\n",
       "      <td>001616528</td>\n",
       "      <td>236701</td>\n",
       "      <td>清热解毒口服液</td>\n",
       "      <td>1</td>\n",
       "      <td>28</td>\n",
       "      <td>24.64</td>\n",
       "    </tr>\n",
       "    <tr>\n",
       "      <th>2</th>\n",
       "      <td>2018-01-06 星期三</td>\n",
       "      <td>0012602828</td>\n",
       "      <td>236701</td>\n",
       "      <td>感康</td>\n",
       "      <td>2</td>\n",
       "      <td>16.8</td>\n",
       "      <td>15</td>\n",
       "    </tr>\n",
       "    <tr>\n",
       "      <th>3</th>\n",
       "      <td>2018-01-11 星期一</td>\n",
       "      <td>0010070343428</td>\n",
       "      <td>236701</td>\n",
       "      <td>三九感冒灵</td>\n",
       "      <td>1</td>\n",
       "      <td>28</td>\n",
       "      <td>28</td>\n",
       "    </tr>\n",
       "    <tr>\n",
       "      <th>4</th>\n",
       "      <td>2018-01-15 星期五</td>\n",
       "      <td>00101554328</td>\n",
       "      <td>236701</td>\n",
       "      <td>三九感冒灵</td>\n",
       "      <td>8</td>\n",
       "      <td>224</td>\n",
       "      <td>208</td>\n",
       "    </tr>\n",
       "  </tbody>\n",
       "</table>\n",
       "</div>"
      ],
      "text/plain": [
       "             购药时间           社保卡号    商品编码     商品名称 销售数量  应收金额   实收金额\n",
       "0  2018-01-01 星期五      001616528  236701  强力VC银翘片    6  82.8     69\n",
       "1  2018-01-02 星期六      001616528  236701  清热解毒口服液    1    28  24.64\n",
       "2  2018-01-06 星期三     0012602828  236701       感康    2  16.8     15\n",
       "3  2018-01-11 星期一  0010070343428  236701    三九感冒灵    1    28     28\n",
       "4  2018-01-15 星期五    00101554328  236701    三九感冒灵    8   224    208"
      ]
     },
     "execution_count": 3,
     "metadata": {},
     "output_type": "execute_result"
    }
   ],
   "source": [
    "import pandas as pd\n",
    "\n",
    "# 读取数据\n",
    "data = pd.read_excel(\"./data/朝阳医院2018年销售数据.xlsx\", dtype=\"object\")\n",
    "\n",
    "# 转换成DataFrame格式\n",
    "dataDF = pd.DataFrame(data)\n",
    "\n",
    "dataDF.head()"
   ]
  },
  {
   "cell_type": "markdown",
   "metadata": {},
   "source": [
    "- 查看数据集基本的信息"
   ]
  },
  {
   "cell_type": "code",
   "execution_count": 4,
   "metadata": {},
   "outputs": [
    {
     "data": {
      "text/plain": [
       "购药时间    6576\n",
       "社保卡号    6576\n",
       "商品编码    6577\n",
       "商品名称    6577\n",
       "销售数量    6577\n",
       "应收金额    6577\n",
       "实收金额    6577\n",
       "dtype: int64"
      ]
     },
     "execution_count": 4,
     "metadata": {},
     "output_type": "execute_result"
    }
   ],
   "source": [
    "# 查看数据几行几列\n",
    "dataDF.shape\n",
    "\n",
    "# 查看索引\n",
    "dataDF.index\n",
    "\n",
    "# 查看每一列的列表头内容\n",
    "dataDF.columns\n",
    "\n",
    "# 查看每一列的数据统计数目\n",
    "dataDF.count()"
   ]
  },
  {
   "cell_type": "markdown",
   "metadata": {},
   "source": [
    "总共有6578行7列数据，但是“购药时间”和“社保卡号”这两列只有6576个数据，而“商品编码”到“实收金额”这些列都是只有6577个数据，这就意味着数据中存在缺失值，可以推断出数据中存在一行缺失值，此外“购药时间”和“社保卡号”这两列都各自存在一个缺失数据，这些缺失数据在后面步骤中需要进一步处理。"
   ]
  },
  {
   "cell_type": "markdown",
   "metadata": {},
   "source": [
    "### 列名重命名"
   ]
  },
  {
   "cell_type": "code",
   "execution_count": 6,
   "metadata": {},
   "outputs": [
    {
     "data": {
      "text/plain": [
       "Index(['销售时间', '社保卡号', '商品编码', '商品名称', '销售数量', '应收金额', '实收金额'], dtype='object')"
      ]
     },
     "execution_count": 6,
     "metadata": {},
     "output_type": "execute_result"
    }
   ],
   "source": [
    "# 使用 rename 函数，把\"购药时间\" 改为 \"销售时间\n",
    "dataDF.rename(columns={\"购药时间\": \"销售时间\"}, inplace=True)\n",
    "dataDF.columns"
   ]
  },
  {
   "cell_type": "markdown",
   "metadata": {},
   "source": [
    "### 缺失数据处理"
   ]
  },
  {
   "cell_type": "code",
   "execution_count": 7,
   "metadata": {},
   "outputs": [
    {
     "data": {
      "text/plain": [
       "(6575, 7)"
      ]
     },
     "execution_count": 7,
     "metadata": {},
     "output_type": "execute_result"
    }
   ],
   "source": [
    "# 处理之前\n",
    "dataDF.shape # 6578行7列\n",
    "\n",
    "# 使用dropna删除缺失值\n",
    "dataDF = dataDF.dropna()\n",
    "\n",
    "# 删除缺失值之后\n",
    "dataDF.shape"
   ]
  },
  {
   "cell_type": "markdown",
   "metadata": {},
   "source": [
    "在导入数据时为了防止导入不进来，会强制所有数据都是object类型，但实际数据分析过程中“销售数量”，“应收金额”，“实收金额”，这些列需要浮点型（float）数据，“销售时间”需要改成时间格式，因此需要对数据类型进行转换。"
   ]
  },
  {
   "cell_type": "code",
   "execution_count": 8,
   "metadata": {},
   "outputs": [
    {
     "data": {
      "text/plain": [
       "销售时间     object\n",
       "社保卡号     object\n",
       "商品编码     object\n",
       "商品名称     object\n",
       "销售数量    float64\n",
       "应收金额    float64\n",
       "实收金额    float64\n",
       "dtype: object"
      ]
     },
     "execution_count": 8,
     "metadata": {},
     "output_type": "execute_result"
    }
   ],
   "source": [
    "# 使用astype()函数转为浮点型数据\n",
    "dataDF[\"销售数量\"] = dataDF[\"销售数量\"].astype(\"f8\")\n",
    "dataDF[\"应收金额\"] = dataDF[\"应收金额\"].astype(\"f8\")\n",
    "dataDF[\"实收金额\"] = dataDF[\"实收金额\"].astype(\"f8\")\n",
    "\n",
    "dataDF.dtypes"
   ]
  },
  {
   "cell_type": "markdown",
   "metadata": {},
   "source": [
    "在“销售时间”这一列数据中存在星期这样的数据，但在数据分析过程中不需要用到，因此要把销售时间列中日期和星期使用split函数进行分割，分割后的时间，返回的是Series数据类型："
   ]
  },
  {
   "cell_type": "code",
   "execution_count": 10,
   "metadata": {},
   "outputs": [
    {
     "data": {
      "text/html": [
       "<div>\n",
       "<style scoped>\n",
       "    .dataframe tbody tr th:only-of-type {\n",
       "        vertical-align: middle;\n",
       "    }\n",
       "\n",
       "    .dataframe tbody tr th {\n",
       "        vertical-align: top;\n",
       "    }\n",
       "\n",
       "    .dataframe thead th {\n",
       "        text-align: right;\n",
       "    }\n",
       "</style>\n",
       "<table border=\"1\" class=\"dataframe\">\n",
       "  <thead>\n",
       "    <tr style=\"text-align: right;\">\n",
       "      <th></th>\n",
       "      <th>销售时间</th>\n",
       "      <th>社保卡号</th>\n",
       "      <th>商品编码</th>\n",
       "      <th>商品名称</th>\n",
       "      <th>销售数量</th>\n",
       "      <th>应收金额</th>\n",
       "      <th>实收金额</th>\n",
       "    </tr>\n",
       "  </thead>\n",
       "  <tbody>\n",
       "    <tr>\n",
       "      <th>0</th>\n",
       "      <td>2018-01-01</td>\n",
       "      <td>001616528</td>\n",
       "      <td>236701</td>\n",
       "      <td>强力VC银翘片</td>\n",
       "      <td>6.0</td>\n",
       "      <td>82.8</td>\n",
       "      <td>69.00</td>\n",
       "    </tr>\n",
       "    <tr>\n",
       "      <th>1</th>\n",
       "      <td>2018-01-02</td>\n",
       "      <td>001616528</td>\n",
       "      <td>236701</td>\n",
       "      <td>清热解毒口服液</td>\n",
       "      <td>1.0</td>\n",
       "      <td>28.0</td>\n",
       "      <td>24.64</td>\n",
       "    </tr>\n",
       "    <tr>\n",
       "      <th>2</th>\n",
       "      <td>2018-01-06</td>\n",
       "      <td>0012602828</td>\n",
       "      <td>236701</td>\n",
       "      <td>感康</td>\n",
       "      <td>2.0</td>\n",
       "      <td>16.8</td>\n",
       "      <td>15.00</td>\n",
       "    </tr>\n",
       "    <tr>\n",
       "      <th>3</th>\n",
       "      <td>2018-01-11</td>\n",
       "      <td>0010070343428</td>\n",
       "      <td>236701</td>\n",
       "      <td>三九感冒灵</td>\n",
       "      <td>1.0</td>\n",
       "      <td>28.0</td>\n",
       "      <td>28.00</td>\n",
       "    </tr>\n",
       "    <tr>\n",
       "      <th>4</th>\n",
       "      <td>2018-01-15</td>\n",
       "      <td>00101554328</td>\n",
       "      <td>236701</td>\n",
       "      <td>三九感冒灵</td>\n",
       "      <td>8.0</td>\n",
       "      <td>224.0</td>\n",
       "      <td>208.00</td>\n",
       "    </tr>\n",
       "  </tbody>\n",
       "</table>\n",
       "</div>"
      ],
      "text/plain": [
       "         销售时间           社保卡号    商品编码     商品名称  销售数量   应收金额    实收金额\n",
       "0  2018-01-01      001616528  236701  强力VC银翘片   6.0   82.8   69.00\n",
       "1  2018-01-02      001616528  236701  清热解毒口服液   1.0   28.0   24.64\n",
       "2  2018-01-06     0012602828  236701       感康   2.0   16.8   15.00\n",
       "3  2018-01-11  0010070343428  236701    三九感冒灵   1.0   28.0   28.00\n",
       "4  2018-01-15    00101554328  236701    三九感冒灵   8.0  224.0  208.00"
      ]
     },
     "execution_count": 10,
     "metadata": {},
     "output_type": "execute_result"
    }
   ],
   "source": [
    "# 定义函数将星期去除\n",
    "def splitsaletime(timeColser):\n",
    "    timelist = []\n",
    "    for t in timeColser:\n",
    "        timelist.append(t.split(\" \")[0])  # [0]表示选取的分片，这里表示切割完后选取第一个分片\n",
    "    timeser = pd.Series(timelist)  # 将列表转行为一维数据Series类型\n",
    "    return timeser\n",
    " \n",
    "# 获取\"销售时间\"这一列数据\n",
    "t = dataDF.loc[:, \"销售时间\"]\n",
    "\n",
    "# 调用函数去除星期，获取日期\n",
    "timeser = splitsaletime(t)\n",
    "\n",
    "# 修改\"销售时间\"这一列日期\n",
    "dataDF.loc[:, \"销售时间\"] = timeser\n",
    "\n",
    "dataDF.head()"
   ]
  },
  {
   "cell_type": "markdown",
   "metadata": {},
   "source": [
    "接着把切割后的日期转为时间格式，方便后面的数据统计："
   ]
  },
  {
   "cell_type": "code",
   "execution_count": 12,
   "metadata": {},
   "outputs": [
    {
     "data": {
      "text/plain": [
       "销售时间    datetime64[ns]\n",
       "社保卡号            object\n",
       "商品编码            object\n",
       "商品名称            object\n",
       "销售数量           float64\n",
       "应收金额           float64\n",
       "实收金额           float64\n",
       "dtype: object"
      ]
     },
     "execution_count": 12,
     "metadata": {},
     "output_type": "execute_result"
    }
   ],
   "source": [
    "# 字符串转日期\n",
    "# errors='coerce'如果原始数据不符合日期的格式，转换后的值为NaT\n",
    "dataDF.loc[:, \"销售时间\"] = pd.to_datetime(dataDF.loc[:, \"销售时间\"], errors='coerce')\n",
    "dataDF.dtypes"
   ]
  },
  {
   "cell_type": "code",
   "execution_count": 13,
   "metadata": {},
   "outputs": [
    {
     "data": {
      "text/plain": [
       "(6549, 7)"
      ]
     },
     "execution_count": 13,
     "metadata": {},
     "output_type": "execute_result"
    }
   ],
   "source": [
    "# 转换日期的过程中不符合日期格式的数值会被转换成空值None\n",
    "# 这里删除为空的行\n",
    "dataDF = dataDF.dropna()\n",
    "dataDF.shape"
   ]
  },
  {
   "cell_type": "markdown",
   "metadata": {},
   "source": [
    "### 数据排序"
   ]
  },
  {
   "cell_type": "markdown",
   "metadata": {},
   "source": [
    "此时时间是没有按顺序排列的，所以还是需要排序一下，排序之后索引会被打乱，所以也需要重置一下索引。其中by:表示按哪一列进行排序，ascending=True表示升序排列，ascending=False表示降序排列："
   ]
  },
  {
   "cell_type": "code",
   "execution_count": 19,
   "metadata": {},
   "outputs": [
    {
     "data": {
      "text/html": [
       "<div>\n",
       "<style scoped>\n",
       "    .dataframe tbody tr th:only-of-type {\n",
       "        vertical-align: middle;\n",
       "    }\n",
       "\n",
       "    .dataframe tbody tr th {\n",
       "        vertical-align: top;\n",
       "    }\n",
       "\n",
       "    .dataframe thead th {\n",
       "        text-align: right;\n",
       "    }\n",
       "</style>\n",
       "<table border=\"1\" class=\"dataframe\">\n",
       "  <thead>\n",
       "    <tr style=\"text-align: right;\">\n",
       "      <th></th>\n",
       "      <th>销售时间</th>\n",
       "      <th>社保卡号</th>\n",
       "      <th>商品编码</th>\n",
       "      <th>商品名称</th>\n",
       "      <th>销售数量</th>\n",
       "      <th>应收金额</th>\n",
       "      <th>实收金额</th>\n",
       "    </tr>\n",
       "  </thead>\n",
       "  <tbody>\n",
       "    <tr>\n",
       "      <th>1190</th>\n",
       "      <td>2018-01-01</td>\n",
       "      <td>0010073966328</td>\n",
       "      <td>861409</td>\n",
       "      <td>非洛地平缓释片(波依定)</td>\n",
       "      <td>5.0</td>\n",
       "      <td>162.5</td>\n",
       "      <td>145.0</td>\n",
       "    </tr>\n",
       "    <tr>\n",
       "      <th>399</th>\n",
       "      <td>2018-01-01</td>\n",
       "      <td>0010074599128</td>\n",
       "      <td>2367011</td>\n",
       "      <td>开博通</td>\n",
       "      <td>5.0</td>\n",
       "      <td>140.0</td>\n",
       "      <td>125.0</td>\n",
       "    </tr>\n",
       "    <tr>\n",
       "      <th>5774</th>\n",
       "      <td>2018-01-01</td>\n",
       "      <td>0013169628</td>\n",
       "      <td>861462</td>\n",
       "      <td>珍菊降压片</td>\n",
       "      <td>1.0</td>\n",
       "      <td>9.5</td>\n",
       "      <td>8.5</td>\n",
       "    </tr>\n",
       "    <tr>\n",
       "      <th>398</th>\n",
       "      <td>2018-01-01</td>\n",
       "      <td>0010072612028</td>\n",
       "      <td>2367011</td>\n",
       "      <td>开博通</td>\n",
       "      <td>1.0</td>\n",
       "      <td>28.0</td>\n",
       "      <td>25.0</td>\n",
       "    </tr>\n",
       "    <tr>\n",
       "      <th>1306</th>\n",
       "      <td>2018-01-01</td>\n",
       "      <td>001616528</td>\n",
       "      <td>861417</td>\n",
       "      <td>雷米普利片(瑞素坦)</td>\n",
       "      <td>1.0</td>\n",
       "      <td>28.5</td>\n",
       "      <td>28.5</td>\n",
       "    </tr>\n",
       "  </tbody>\n",
       "</table>\n",
       "</div>"
      ],
      "text/plain": [
       "           销售时间           社保卡号     商品编码          商品名称  销售数量   应收金额   实收金额\n",
       "1190 2018-01-01  0010073966328   861409  非洛地平缓释片(波依定)   5.0  162.5  145.0\n",
       "399  2018-01-01  0010074599128  2367011           开博通   5.0  140.0  125.0\n",
       "5774 2018-01-01     0013169628   861462         珍菊降压片   1.0    9.5    8.5\n",
       "398  2018-01-01  0010072612028  2367011           开博通   1.0   28.0   25.0\n",
       "1306 2018-01-01      001616528   861417    雷米普利片(瑞素坦)   1.0   28.5   28.5"
      ]
     },
     "execution_count": 19,
     "metadata": {},
     "output_type": "execute_result"
    }
   ],
   "source": [
    "# 按销售时间进行排序\n",
    "dataDF = dataDF.sort_values(by='销售时间', ascending=True)\n",
    "dataDF.head()"
   ]
  },
  {
   "cell_type": "code",
   "execution_count": 21,
   "metadata": {},
   "outputs": [
    {
     "data": {
      "text/html": [
       "<div>\n",
       "<style scoped>\n",
       "    .dataframe tbody tr th:only-of-type {\n",
       "        vertical-align: middle;\n",
       "    }\n",
       "\n",
       "    .dataframe tbody tr th {\n",
       "        vertical-align: top;\n",
       "    }\n",
       "\n",
       "    .dataframe thead th {\n",
       "        text-align: right;\n",
       "    }\n",
       "</style>\n",
       "<table border=\"1\" class=\"dataframe\">\n",
       "  <thead>\n",
       "    <tr style=\"text-align: right;\">\n",
       "      <th></th>\n",
       "      <th>销售时间</th>\n",
       "      <th>社保卡号</th>\n",
       "      <th>商品编码</th>\n",
       "      <th>商品名称</th>\n",
       "      <th>销售数量</th>\n",
       "      <th>应收金额</th>\n",
       "      <th>实收金额</th>\n",
       "    </tr>\n",
       "  </thead>\n",
       "  <tbody>\n",
       "    <tr>\n",
       "      <th>0</th>\n",
       "      <td>2018-01-01</td>\n",
       "      <td>0010073966328</td>\n",
       "      <td>861409</td>\n",
       "      <td>非洛地平缓释片(波依定)</td>\n",
       "      <td>5.0</td>\n",
       "      <td>162.5</td>\n",
       "      <td>145.0</td>\n",
       "    </tr>\n",
       "    <tr>\n",
       "      <th>1</th>\n",
       "      <td>2018-01-01</td>\n",
       "      <td>0010074599128</td>\n",
       "      <td>2367011</td>\n",
       "      <td>开博通</td>\n",
       "      <td>5.0</td>\n",
       "      <td>140.0</td>\n",
       "      <td>125.0</td>\n",
       "    </tr>\n",
       "    <tr>\n",
       "      <th>2</th>\n",
       "      <td>2018-01-01</td>\n",
       "      <td>0013169628</td>\n",
       "      <td>861462</td>\n",
       "      <td>珍菊降压片</td>\n",
       "      <td>1.0</td>\n",
       "      <td>9.5</td>\n",
       "      <td>8.5</td>\n",
       "    </tr>\n",
       "    <tr>\n",
       "      <th>3</th>\n",
       "      <td>2018-01-01</td>\n",
       "      <td>0010072612028</td>\n",
       "      <td>2367011</td>\n",
       "      <td>开博通</td>\n",
       "      <td>1.0</td>\n",
       "      <td>28.0</td>\n",
       "      <td>25.0</td>\n",
       "    </tr>\n",
       "    <tr>\n",
       "      <th>4</th>\n",
       "      <td>2018-01-01</td>\n",
       "      <td>001616528</td>\n",
       "      <td>861417</td>\n",
       "      <td>雷米普利片(瑞素坦)</td>\n",
       "      <td>1.0</td>\n",
       "      <td>28.5</td>\n",
       "      <td>28.5</td>\n",
       "    </tr>\n",
       "  </tbody>\n",
       "</table>\n",
       "</div>"
      ],
      "text/plain": [
       "        销售时间           社保卡号     商品编码          商品名称  销售数量   应收金额   实收金额\n",
       "0 2018-01-01  0010073966328   861409  非洛地平缓释片(波依定)   5.0  162.5  145.0\n",
       "1 2018-01-01  0010074599128  2367011           开博通   5.0  140.0  125.0\n",
       "2 2018-01-01     0013169628   861462         珍菊降压片   1.0    9.5    8.5\n",
       "3 2018-01-01  0010072612028  2367011           开博通   1.0   28.0   25.0\n",
       "4 2018-01-01      001616528   861417    雷米普利片(瑞素坦)   1.0   28.5   28.5"
      ]
     },
     "execution_count": 21,
     "metadata": {},
     "output_type": "execute_result"
    }
   ],
   "source": [
    "# 重置索引(index)\n",
    "dataDF = dataDF.reset_index(drop=True)\n",
    "dataDF.head()"
   ]
  },
  {
   "cell_type": "markdown",
   "metadata": {},
   "source": [
    "### 异常值处理"
   ]
  },
  {
   "cell_type": "code",
   "execution_count": 22,
   "metadata": {},
   "outputs": [
    {
     "data": {
      "text/html": [
       "<div>\n",
       "<style scoped>\n",
       "    .dataframe tbody tr th:only-of-type {\n",
       "        vertical-align: middle;\n",
       "    }\n",
       "\n",
       "    .dataframe tbody tr th {\n",
       "        vertical-align: top;\n",
       "    }\n",
       "\n",
       "    .dataframe thead th {\n",
       "        text-align: right;\n",
       "    }\n",
       "</style>\n",
       "<table border=\"1\" class=\"dataframe\">\n",
       "  <thead>\n",
       "    <tr style=\"text-align: right;\">\n",
       "      <th></th>\n",
       "      <th>销售数量</th>\n",
       "      <th>应收金额</th>\n",
       "      <th>实收金额</th>\n",
       "    </tr>\n",
       "  </thead>\n",
       "  <tbody>\n",
       "    <tr>\n",
       "      <th>count</th>\n",
       "      <td>6549.000000</td>\n",
       "      <td>6549.000000</td>\n",
       "      <td>6549.000000</td>\n",
       "    </tr>\n",
       "    <tr>\n",
       "      <th>mean</th>\n",
       "      <td>2.384486</td>\n",
       "      <td>50.449076</td>\n",
       "      <td>46.284370</td>\n",
       "    </tr>\n",
       "    <tr>\n",
       "      <th>std</th>\n",
       "      <td>2.375227</td>\n",
       "      <td>87.696401</td>\n",
       "      <td>81.058426</td>\n",
       "    </tr>\n",
       "    <tr>\n",
       "      <th>min</th>\n",
       "      <td>-10.000000</td>\n",
       "      <td>-374.000000</td>\n",
       "      <td>-374.000000</td>\n",
       "    </tr>\n",
       "    <tr>\n",
       "      <th>25%</th>\n",
       "      <td>1.000000</td>\n",
       "      <td>14.000000</td>\n",
       "      <td>12.320000</td>\n",
       "    </tr>\n",
       "    <tr>\n",
       "      <th>50%</th>\n",
       "      <td>2.000000</td>\n",
       "      <td>28.000000</td>\n",
       "      <td>26.500000</td>\n",
       "    </tr>\n",
       "    <tr>\n",
       "      <th>75%</th>\n",
       "      <td>2.000000</td>\n",
       "      <td>59.600000</td>\n",
       "      <td>53.000000</td>\n",
       "    </tr>\n",
       "    <tr>\n",
       "      <th>max</th>\n",
       "      <td>50.000000</td>\n",
       "      <td>2950.000000</td>\n",
       "      <td>2650.000000</td>\n",
       "    </tr>\n",
       "  </tbody>\n",
       "</table>\n",
       "</div>"
      ],
      "text/plain": [
       "              销售数量         应收金额         实收金额\n",
       "count  6549.000000  6549.000000  6549.000000\n",
       "mean      2.384486    50.449076    46.284370\n",
       "std       2.375227    87.696401    81.058426\n",
       "min     -10.000000  -374.000000  -374.000000\n",
       "25%       1.000000    14.000000    12.320000\n",
       "50%       2.000000    28.000000    26.500000\n",
       "75%       2.000000    59.600000    53.000000\n",
       "max      50.000000  2950.000000  2650.000000"
      ]
     },
     "execution_count": 22,
     "metadata": {},
     "output_type": "execute_result"
    }
   ],
   "source": [
    "# 查看描述统计信息\n",
    "dataDF.describe()"
   ]
  },
  {
   "cell_type": "markdown",
   "metadata": {},
   "source": [
    "通过描述统计信息可以看到，“销售数量”、“应收金额”、“实收金额”这三列数据的最小值出现了负数，这明显不符合常理，数据中存在异常值的干扰，因此要对数据进一步处理，以排除异常值的影响："
   ]
  },
  {
   "cell_type": "code",
   "execution_count": 23,
   "metadata": {},
   "outputs": [
    {
     "data": {
      "text/html": [
       "<div>\n",
       "<style scoped>\n",
       "    .dataframe tbody tr th:only-of-type {\n",
       "        vertical-align: middle;\n",
       "    }\n",
       "\n",
       "    .dataframe tbody tr th {\n",
       "        vertical-align: top;\n",
       "    }\n",
       "\n",
       "    .dataframe thead th {\n",
       "        text-align: right;\n",
       "    }\n",
       "</style>\n",
       "<table border=\"1\" class=\"dataframe\">\n",
       "  <thead>\n",
       "    <tr style=\"text-align: right;\">\n",
       "      <th></th>\n",
       "      <th>销售数量</th>\n",
       "      <th>应收金额</th>\n",
       "      <th>实收金额</th>\n",
       "    </tr>\n",
       "  </thead>\n",
       "  <tbody>\n",
       "    <tr>\n",
       "      <th>count</th>\n",
       "      <td>6506.000000</td>\n",
       "      <td>6506.000000</td>\n",
       "      <td>6506.000000</td>\n",
       "    </tr>\n",
       "    <tr>\n",
       "      <th>mean</th>\n",
       "      <td>2.405626</td>\n",
       "      <td>50.927897</td>\n",
       "      <td>46.727653</td>\n",
       "    </tr>\n",
       "    <tr>\n",
       "      <th>std</th>\n",
       "      <td>2.364565</td>\n",
       "      <td>87.650282</td>\n",
       "      <td>80.997726</td>\n",
       "    </tr>\n",
       "    <tr>\n",
       "      <th>min</th>\n",
       "      <td>1.000000</td>\n",
       "      <td>1.200000</td>\n",
       "      <td>0.030000</td>\n",
       "    </tr>\n",
       "    <tr>\n",
       "      <th>25%</th>\n",
       "      <td>1.000000</td>\n",
       "      <td>14.000000</td>\n",
       "      <td>12.600000</td>\n",
       "    </tr>\n",
       "    <tr>\n",
       "      <th>50%</th>\n",
       "      <td>2.000000</td>\n",
       "      <td>28.000000</td>\n",
       "      <td>27.000000</td>\n",
       "    </tr>\n",
       "    <tr>\n",
       "      <th>75%</th>\n",
       "      <td>2.000000</td>\n",
       "      <td>59.600000</td>\n",
       "      <td>53.000000</td>\n",
       "    </tr>\n",
       "    <tr>\n",
       "      <th>max</th>\n",
       "      <td>50.000000</td>\n",
       "      <td>2950.000000</td>\n",
       "      <td>2650.000000</td>\n",
       "    </tr>\n",
       "  </tbody>\n",
       "</table>\n",
       "</div>"
      ],
      "text/plain": [
       "              销售数量         应收金额         实收金额\n",
       "count  6506.000000  6506.000000  6506.000000\n",
       "mean      2.405626    50.927897    46.727653\n",
       "std       2.364565    87.650282    80.997726\n",
       "min       1.000000     1.200000     0.030000\n",
       "25%       1.000000    14.000000    12.600000\n",
       "50%       2.000000    28.000000    27.000000\n",
       "75%       2.000000    59.600000    53.000000\n",
       "max      50.000000  2950.000000  2650.000000"
      ]
     },
     "execution_count": 23,
     "metadata": {},
     "output_type": "execute_result"
    }
   ],
   "source": [
    "# 将‘销售数量’这一列中小于0的数排除掉\n",
    "pop = dataDF.loc[:, \"销售数量\"] > 0\n",
    "dataDF = dataDF.loc[pop, :]\n",
    "\n",
    "# 排出一场之后再次查看描述统计信息\n",
    "dataDF.describe()"
   ]
  },
  {
   "cell_type": "markdown",
   "metadata": {},
   "source": [
    "### 业务指标1：月均消费次数\n"
   ]
  },
  {
   "cell_type": "markdown",
   "metadata": {},
   "source": [
    "月均消费次数 = 总消费次数 / 月份数\n",
    "\n"
   ]
  },
  {
   "cell_type": "markdown",
   "metadata": {},
   "source": [
    "1、计算总消费次数\n",
    "\n",
    "同一天内，同一个人发生的所有消费算作一次消费"
   ]
  },
  {
   "cell_type": "code",
   "execution_count": 25,
   "metadata": {},
   "outputs": [
    {
     "name": "stdout",
     "output_type": "stream",
     "text": [
      "总消费数据： 5342\n"
     ]
    }
   ],
   "source": [
    "# 删除重复数据\n",
    "kpi1_Df = dataDF.drop_duplicates(subset=['销售时间', '社保卡号'])\n",
    "\n",
    "# # 删除重复数据 \n",
    "# kpi1_Df = dataDF.drop_duplicates(subset=['销售时间', '社保卡号'])\n",
    "\n",
    "# 有多少行\n",
    "totall = kpi1_Df.shape[0]\n",
    "print(\"总消费数据：\", totall)"
   ]
  },
  {
   "cell_type": "markdown",
   "metadata": {},
   "source": [
    "2、计算月份数"
   ]
  },
  {
   "cell_type": "code",
   "execution_count": 26,
   "metadata": {},
   "outputs": [
    {
     "name": "stdout",
     "output_type": "stream",
     "text": [
      "月份数： 6\n"
     ]
    }
   ],
   "source": [
    "# 按销售时间升序排序\n",
    "kpi1_Df = kpi1_Df.sort_values(by='销售时间', ascending=True)\n",
    "\n",
    "# 重命名行名(index)\n",
    "kpi1_Df = kpi1_Df.reset_index(drop=True)\n",
    "\n",
    "# 获取时间范围\n",
    "# 最小时间值\n",
    "startTime = kpi1_Df.loc[0, '销售时间']\n",
    "# 最大时间值\n",
    "endTime = kpi1_Df.loc[totall - 1, '销售时间']\n",
    "\n",
    "# 计算天数\n",
    "daysI = (endTime - startTime).days\n",
    "\n",
    "# 月份数：运算符\"//\"表示取整除，返回商的整数部分,假设按一个月30天去计算！\n",
    "monthsI = daysI // 30\n",
    "print(\"月份数：\", monthsI)"
   ]
  },
  {
   "cell_type": "markdown",
   "metadata": {},
   "source": [
    "3、计算月均消费"
   ]
  },
  {
   "cell_type": "code",
   "execution_count": 30,
   "metadata": {},
   "outputs": [
    {
     "name": "stdout",
     "output_type": "stream",
     "text": [
      "业务指标1,: 月均消费次数： 890\n"
     ]
    }
   ],
   "source": [
    "# 计算月均消费\n",
    "kpi1_I = totall // monthsI\n",
    "print('业务指标1,: 月均消费次数：', kpi1_I)"
   ]
  },
  {
   "cell_type": "markdown",
   "metadata": {},
   "source": [
    "### 业务指标2：月均消费金额"
   ]
  },
  {
   "cell_type": "markdown",
   "metadata": {},
   "source": [
    "月均消费金额 = 总消费金额 / 月份数"
   ]
  },
  {
   "cell_type": "code",
   "execution_count": 29,
   "metadata": {},
   "outputs": [
    {
     "name": "stdout",
     "output_type": "stream",
     "text": [
      "业务指标2：月均消费金额 =   50668.35166666668\n"
     ]
    }
   ],
   "source": [
    "# 总消费金额\n",
    "totalMoneyF = dataDF.loc[:, '实收金额'].sum()\n",
    "\n",
    "# 月均消费金额\n",
    "monthMoneyF = totalMoneyF / monthsI\n",
    "print('业务指标2：月均消费金额 =  ', monthMoneyF)"
   ]
  },
  {
   "cell_type": "markdown",
   "metadata": {},
   "source": [
    "### 业务指标3：客单价"
   ]
  },
  {
   "cell_type": "markdown",
   "metadata": {},
   "source": [
    "客单价 = 总消费金额 / 总消费次数"
   ]
  },
  {
   "cell_type": "code",
   "execution_count": 33,
   "metadata": {},
   "outputs": [
    {
     "name": "stdout",
     "output_type": "stream",
     "text": [
      "业务指标3：客单价= 56.90941782104082\n"
     ]
    }
   ],
   "source": [
    "# 客单价 = 总消费金额 / 总消费次数\n",
    "pct = totalMoneyF / totall\n",
    "print('业务指标3：客单价=', pct)"
   ]
  },
  {
   "cell_type": "markdown",
   "metadata": {},
   "source": [
    "### 业务指标4：消费趋势"
   ]
  },
  {
   "cell_type": "code",
   "execution_count": 34,
   "metadata": {},
   "outputs": [],
   "source": [
    "# 先导入相关的包\n",
    "import matplotlib.pyplot as plt\n",
    "# 画图时用于显示中文字符\n",
    "from pylab import mpl\n",
    "mpl.rcParams['font.sans-serif'] = ['SimHei']\n",
    "\n",
    "# 在操作之前先复制一份数据，防止影响清洗后的数据\n",
    "groupDf = dataDF"
   ]
  },
  {
   "cell_type": "markdown",
   "metadata": {},
   "source": [
    "1、分析每天的消费金额"
   ]
  },
  {
   "cell_type": "code",
   "execution_count": 36,
   "metadata": {},
   "outputs": [
    {
     "data": {
      "text/html": [
       "<div>\n",
       "<style scoped>\n",
       "    .dataframe tbody tr th:only-of-type {\n",
       "        vertical-align: middle;\n",
       "    }\n",
       "\n",
       "    .dataframe tbody tr th {\n",
       "        vertical-align: top;\n",
       "    }\n",
       "\n",
       "    .dataframe thead th {\n",
       "        text-align: right;\n",
       "    }\n",
       "</style>\n",
       "<table border=\"1\" class=\"dataframe\">\n",
       "  <thead>\n",
       "    <tr style=\"text-align: right;\">\n",
       "      <th></th>\n",
       "      <th>销售时间</th>\n",
       "      <th>社保卡号</th>\n",
       "      <th>商品编码</th>\n",
       "      <th>商品名称</th>\n",
       "      <th>销售数量</th>\n",
       "      <th>应收金额</th>\n",
       "      <th>实收金额</th>\n",
       "    </tr>\n",
       "    <tr>\n",
       "      <th>销售时间</th>\n",
       "      <th></th>\n",
       "      <th></th>\n",
       "      <th></th>\n",
       "      <th></th>\n",
       "      <th></th>\n",
       "      <th></th>\n",
       "      <th></th>\n",
       "    </tr>\n",
       "  </thead>\n",
       "  <tbody>\n",
       "    <tr>\n",
       "      <th>2018-01-01</th>\n",
       "      <td>2018-01-01</td>\n",
       "      <td>0010073966328</td>\n",
       "      <td>861409</td>\n",
       "      <td>非洛地平缓释片(波依定)</td>\n",
       "      <td>5.0</td>\n",
       "      <td>162.5</td>\n",
       "      <td>145.0</td>\n",
       "    </tr>\n",
       "    <tr>\n",
       "      <th>2018-01-01</th>\n",
       "      <td>2018-01-01</td>\n",
       "      <td>0010074599128</td>\n",
       "      <td>2367011</td>\n",
       "      <td>开博通</td>\n",
       "      <td>5.0</td>\n",
       "      <td>140.0</td>\n",
       "      <td>125.0</td>\n",
       "    </tr>\n",
       "    <tr>\n",
       "      <th>2018-01-01</th>\n",
       "      <td>2018-01-01</td>\n",
       "      <td>0013169628</td>\n",
       "      <td>861462</td>\n",
       "      <td>珍菊降压片</td>\n",
       "      <td>1.0</td>\n",
       "      <td>9.5</td>\n",
       "      <td>8.5</td>\n",
       "    </tr>\n",
       "    <tr>\n",
       "      <th>2018-01-01</th>\n",
       "      <td>2018-01-01</td>\n",
       "      <td>0010072612028</td>\n",
       "      <td>2367011</td>\n",
       "      <td>开博通</td>\n",
       "      <td>1.0</td>\n",
       "      <td>28.0</td>\n",
       "      <td>25.0</td>\n",
       "    </tr>\n",
       "    <tr>\n",
       "      <th>2018-01-01</th>\n",
       "      <td>2018-01-01</td>\n",
       "      <td>001616528</td>\n",
       "      <td>861417</td>\n",
       "      <td>雷米普利片(瑞素坦)</td>\n",
       "      <td>1.0</td>\n",
       "      <td>28.5</td>\n",
       "      <td>28.5</td>\n",
       "    </tr>\n",
       "  </tbody>\n",
       "</table>\n",
       "</div>"
      ],
      "text/plain": [
       "                 销售时间           社保卡号     商品编码          商品名称  销售数量   应收金额  \\\n",
       "销售时间                                                                       \n",
       "2018-01-01 2018-01-01  0010073966328   861409  非洛地平缓释片(波依定)   5.0  162.5   \n",
       "2018-01-01 2018-01-01  0010074599128  2367011           开博通   5.0  140.0   \n",
       "2018-01-01 2018-01-01     0013169628   861462         珍菊降压片   1.0    9.5   \n",
       "2018-01-01 2018-01-01  0010072612028  2367011           开博通   1.0   28.0   \n",
       "2018-01-01 2018-01-01      001616528   861417    雷米普利片(瑞素坦)   1.0   28.5   \n",
       "\n",
       "             实收金额  \n",
       "销售时间               \n",
       "2018-01-01  145.0  \n",
       "2018-01-01  125.0  \n",
       "2018-01-01    8.5  \n",
       "2018-01-01   25.0  \n",
       "2018-01-01   28.5  "
      ]
     },
     "execution_count": 36,
     "metadata": {},
     "output_type": "execute_result"
    }
   ],
   "source": [
    "# 重命名行（index）为销售时间所在列的值\n",
    "groupDf.index = groupDf['销售时间']\n",
    "groupDf.head()"
   ]
  },
  {
   "cell_type": "code",
   "execution_count": 38,
   "metadata": {},
   "outputs": [
    {
     "data": {
      "image/png": "[encoded data removed]",
      "text/plain": [
       "<Figure size 432x288 with 1 Axes>"
      ]
     },
     "metadata": {
      "needs_background": "light"
     },
     "output_type": "display_data"
    }
   ],
   "source": [
    "from pandas.plotting import register_matplotlib_converters \n",
    "register_matplotlib_converters()\n",
    "# 画图\n",
    "plt.plot(groupDf['实收金额'])\n",
    "plt.title('按天消费金额图')\n",
    "plt.xlabel('时间')\n",
    "plt.ylabel('实收金额')\n",
    "\n",
    " # 保存图片\n",
    "plt.savefig('./day.png')\n",
    "# 显示图片\n",
    "plt.show()"
   ]
  },
  {
   "cell_type": "markdown",
   "metadata": {},
   "source": [
    "从结果可以看出，每天消费总额差异较大，除了个别天出现比较大笔的消费，大部分人消费情况维持在500元以内。"
   ]
  },
  {
   "cell_type": "markdown",
   "metadata": {},
   "source": [
    "2、分析每月的消费金额\n",
    "\n",
    "接下来，将销售时间先聚合再按月分组进行分析："
   ]
  },
  {
   "cell_type": "code",
   "execution_count": 39,
   "metadata": {},
   "outputs": [
    {
     "data": {
      "text/plain": [
       "<pandas.core.groupby.generic.DataFrameGroupBy object at 0x0000019230244390>"
      ]
     },
     "execution_count": 39,
     "metadata": {},
     "output_type": "execute_result"
    }
   ],
   "source": [
    "# 将销售时间聚合按月分组\n",
    "gb = groupDf.groupby(groupDf.index.month)\n",
    "gb"
   ]
  },
  {
   "cell_type": "code",
   "execution_count": 40,
   "metadata": {},
   "outputs": [
    {
     "data": {
      "text/html": [
       "<div>\n",
       "<style scoped>\n",
       "    .dataframe tbody tr th:only-of-type {\n",
       "        vertical-align: middle;\n",
       "    }\n",
       "\n",
       "    .dataframe tbody tr th {\n",
       "        vertical-align: top;\n",
       "    }\n",
       "\n",
       "    .dataframe thead th {\n",
       "        text-align: right;\n",
       "    }\n",
       "</style>\n",
       "<table border=\"1\" class=\"dataframe\">\n",
       "  <thead>\n",
       "    <tr style=\"text-align: right;\">\n",
       "      <th></th>\n",
       "      <th>销售数量</th>\n",
       "      <th>应收金额</th>\n",
       "      <th>实收金额</th>\n",
       "    </tr>\n",
       "    <tr>\n",
       "      <th>销售时间</th>\n",
       "      <th></th>\n",
       "      <th></th>\n",
       "      <th></th>\n",
       "    </tr>\n",
       "  </thead>\n",
       "  <tbody>\n",
       "    <tr>\n",
       "      <th>1</th>\n",
       "      <td>2527.0</td>\n",
       "      <td>53561.6</td>\n",
       "      <td>49461.19</td>\n",
       "    </tr>\n",
       "    <tr>\n",
       "      <th>2</th>\n",
       "      <td>1858.0</td>\n",
       "      <td>42028.8</td>\n",
       "      <td>38790.38</td>\n",
       "    </tr>\n",
       "    <tr>\n",
       "      <th>3</th>\n",
       "      <td>2225.0</td>\n",
       "      <td>45318.0</td>\n",
       "      <td>41597.51</td>\n",
       "    </tr>\n",
       "    <tr>\n",
       "      <th>4</th>\n",
       "      <td>3005.0</td>\n",
       "      <td>54296.3</td>\n",
       "      <td>48787.84</td>\n",
       "    </tr>\n",
       "    <tr>\n",
       "      <th>5</th>\n",
       "      <td>2225.0</td>\n",
       "      <td>51263.4</td>\n",
       "      <td>46925.27</td>\n",
       "    </tr>\n",
       "    <tr>\n",
       "      <th>6</th>\n",
       "      <td>2328.0</td>\n",
       "      <td>52300.8</td>\n",
       "      <td>48327.70</td>\n",
       "    </tr>\n",
       "    <tr>\n",
       "      <th>7</th>\n",
       "      <td>1483.0</td>\n",
       "      <td>32568.0</td>\n",
       "      <td>30120.22</td>\n",
       "    </tr>\n",
       "  </tbody>\n",
       "</table>\n",
       "</div>"
      ],
      "text/plain": [
       "        销售数量     应收金额      实收金额\n",
       "销售时间                           \n",
       "1     2527.0  53561.6  49461.19\n",
       "2     1858.0  42028.8  38790.38\n",
       "3     2225.0  45318.0  41597.51\n",
       "4     3005.0  54296.3  48787.84\n",
       "5     2225.0  51263.4  46925.27\n",
       "6     2328.0  52300.8  48327.70\n",
       "7     1483.0  32568.0  30120.22"
      ]
     },
     "execution_count": 40,
     "metadata": {},
     "output_type": "execute_result"
    }
   ],
   "source": [
    "# 应用函数，计算每个月的消费总额\n",
    "monthDf = gb.sum()\n",
    "monthDf"
   ]
  },
  {
   "cell_type": "code",
   "execution_count": 41,
   "metadata": {},
   "outputs": [
    {
     "data": {
      "image/png": "[encoded data removed]",
      "text/plain": [
       "<Figure size 432x288 with 1 Axes>"
      ]
     },
     "metadata": {
      "needs_background": "light"
     },
     "output_type": "display_data"
    }
   ],
   "source": [
    "# 描绘按月消费金额图\n",
    "plt.plot(monthDf['实收金额'])\n",
    "plt.title('按月消费金额图')\n",
    "plt.xlabel('月份')\n",
    "plt.ylabel('实收金额')\n",
    "\n",
    "# 保存图片\n",
    "plt.savefig('./month.png')\n",
    "# 显示图片\n",
    "plt.show()"
   ]
  },
  {
   "cell_type": "markdown",
   "metadata": {},
   "source": [
    "结果显示，7月消费金额最少，这是因为7月份的数据不完整，所以不具参考价值。\n",
    "\n",
    "1月、4月、5月和6月的月消费金额差异不大，2月和3月的消费金额迅速降低，这可能是2月和3月处于春节期间，大部分人都回家过年的原因。"
   ]
  },
  {
   "cell_type": "markdown",
   "metadata": {},
   "source": [
    "3、分析药品销售情况\n",
    "\n",
    "对“商品名称”和“销售数量”这两列数据进行聚合为Series形式，方便后面统计，并按降序排序：\n",
    "\n"
   ]
  },
  {
   "cell_type": "code",
   "execution_count": 42,
   "metadata": {},
   "outputs": [
    {
     "data": {
      "text/html": [
       "<div>\n",
       "<style scoped>\n",
       "    .dataframe tbody tr th:only-of-type {\n",
       "        vertical-align: middle;\n",
       "    }\n",
       "\n",
       "    .dataframe tbody tr th {\n",
       "        vertical-align: top;\n",
       "    }\n",
       "\n",
       "    .dataframe thead th {\n",
       "        text-align: right;\n",
       "    }\n",
       "</style>\n",
       "<table border=\"1\" class=\"dataframe\">\n",
       "  <thead>\n",
       "    <tr style=\"text-align: right;\">\n",
       "      <th></th>\n",
       "      <th>销售数量</th>\n",
       "    </tr>\n",
       "    <tr>\n",
       "      <th>商品名称</th>\n",
       "      <th></th>\n",
       "    </tr>\n",
       "  </thead>\n",
       "  <tbody>\n",
       "    <tr>\n",
       "      <th>苯磺酸氨氯地平片(安内真)</th>\n",
       "      <td>1781.0</td>\n",
       "    </tr>\n",
       "    <tr>\n",
       "      <th>开博通</th>\n",
       "      <td>1440.0</td>\n",
       "    </tr>\n",
       "    <tr>\n",
       "      <th>酒石酸美托洛尔片(倍他乐克)</th>\n",
       "      <td>1140.0</td>\n",
       "    </tr>\n",
       "    <tr>\n",
       "      <th>硝苯地平片(心痛定)</th>\n",
       "      <td>825.0</td>\n",
       "    </tr>\n",
       "    <tr>\n",
       "      <th>苯磺酸氨氯地平片(络活喜)</th>\n",
       "      <td>796.0</td>\n",
       "    </tr>\n",
       "  </tbody>\n",
       "</table>\n",
       "</div>"
      ],
      "text/plain": [
       "                  销售数量\n",
       "商品名称                  \n",
       "苯磺酸氨氯地平片(安内真)   1781.0\n",
       "开博通             1440.0\n",
       "酒石酸美托洛尔片(倍他乐克)  1140.0\n",
       "硝苯地平片(心痛定)       825.0\n",
       "苯磺酸氨氯地平片(络活喜)    796.0"
      ]
     },
     "execution_count": 42,
     "metadata": {},
     "output_type": "execute_result"
    }
   ],
   "source": [
    "# 聚合统计各种药品的销售数量\n",
    "medicine = groupDf[['商品名称','销售数量']]\n",
    "bk = medicine.groupby('商品名称')[['销售数量']]\n",
    "re_medicine = bk.sum()\n",
    "\n",
    "# 对药品销售数量按降序排序\n",
    "re_medicine = re_medicine.sort_values(by='销售数量',ascending=False)\n",
    "re_medicine.head()"
   ]
  },
  {
   "cell_type": "markdown",
   "metadata": {},
   "source": [
    "截取销售数量最多的前十种药品，并用条形图展示结果："
   ]
  },
  {
   "cell_type": "code",
   "execution_count": 43,
   "metadata": {},
   "outputs": [
    {
     "data": {
      "text/html": [
       "<div>\n",
       "<style scoped>\n",
       "    .dataframe tbody tr th:only-of-type {\n",
       "        vertical-align: middle;\n",
       "    }\n",
       "\n",
       "    .dataframe tbody tr th {\n",
       "        vertical-align: top;\n",
       "    }\n",
       "\n",
       "    .dataframe thead th {\n",
       "        text-align: right;\n",
       "    }\n",
       "</style>\n",
       "<table border=\"1\" class=\"dataframe\">\n",
       "  <thead>\n",
       "    <tr style=\"text-align: right;\">\n",
       "      <th></th>\n",
       "      <th>销售数量</th>\n",
       "    </tr>\n",
       "    <tr>\n",
       "      <th>商品名称</th>\n",
       "      <th></th>\n",
       "    </tr>\n",
       "  </thead>\n",
       "  <tbody>\n",
       "    <tr>\n",
       "      <th>苯磺酸氨氯地平片(安内真)</th>\n",
       "      <td>1781.0</td>\n",
       "    </tr>\n",
       "    <tr>\n",
       "      <th>开博通</th>\n",
       "      <td>1440.0</td>\n",
       "    </tr>\n",
       "    <tr>\n",
       "      <th>酒石酸美托洛尔片(倍他乐克)</th>\n",
       "      <td>1140.0</td>\n",
       "    </tr>\n",
       "    <tr>\n",
       "      <th>硝苯地平片(心痛定)</th>\n",
       "      <td>825.0</td>\n",
       "    </tr>\n",
       "    <tr>\n",
       "      <th>苯磺酸氨氯地平片(络活喜)</th>\n",
       "      <td>796.0</td>\n",
       "    </tr>\n",
       "    <tr>\n",
       "      <th>复方利血平片(复方降压片)</th>\n",
       "      <td>515.0</td>\n",
       "    </tr>\n",
       "    <tr>\n",
       "      <th>G琥珀酸美托洛尔缓释片(倍他乐克)</th>\n",
       "      <td>509.0</td>\n",
       "    </tr>\n",
       "    <tr>\n",
       "      <th>缬沙坦胶囊(代文)</th>\n",
       "      <td>445.0</td>\n",
       "    </tr>\n",
       "    <tr>\n",
       "      <th>非洛地平缓释片(波依定)</th>\n",
       "      <td>375.0</td>\n",
       "    </tr>\n",
       "    <tr>\n",
       "      <th>高特灵</th>\n",
       "      <td>366.0</td>\n",
       "    </tr>\n",
       "  </tbody>\n",
       "</table>\n",
       "</div>"
      ],
      "text/plain": [
       "                     销售数量\n",
       "商品名称                     \n",
       "苯磺酸氨氯地平片(安内真)      1781.0\n",
       "开博通                1440.0\n",
       "酒石酸美托洛尔片(倍他乐克)     1140.0\n",
       "硝苯地平片(心痛定)          825.0\n",
       "苯磺酸氨氯地平片(络活喜)       796.0\n",
       "复方利血平片(复方降压片)       515.0\n",
       "G琥珀酸美托洛尔缓释片(倍他乐克)   509.0\n",
       "缬沙坦胶囊(代文)           445.0\n",
       "非洛地平缓释片(波依定)        375.0\n",
       "高特灵                 366.0"
      ]
     },
     "execution_count": 43,
     "metadata": {},
     "output_type": "execute_result"
    }
   ],
   "source": [
    "# 截取销售数量最多的十种药品\n",
    "top_medicine = re_medicine.iloc[:10,:]\n",
    "top_medicine"
   ]
  },
  {
   "cell_type": "code",
   "execution_count": 44,
   "metadata": {},
   "outputs": [
    {
     "data": {
      "image/png": "[encoded data removed]",
      "text/plain": [
       "<Figure size 432x288 with 1 Axes>"
      ]
     },
     "metadata": {
      "needs_background": "light"
     },
     "output_type": "display_data"
    }
   ],
   "source": [
    "# 用条形图展示销售数量前十的药品\n",
    "top_medicine.plot(kind='bar')\n",
    "plt.title('药品销售前十情况')\n",
    "plt.xlabel('药品种类')\n",
    "plt.ylabel('销售数量')\n",
    "plt.legend(loc=0)\n",
    " \n",
    "# 保存图片\n",
    "plt.savefig('./medicine.png')\n",
    "# 显示图片\n",
    "plt.show()"
   ]
  },
  {
   "cell_type": "markdown",
   "metadata": {},
   "source": [
    "得到销售数量最多的前十种药品信息，这些信息将会有助于加强医院对药房的管理。"
   ]
  }
 ],
 "metadata": {
  "kernelspec": {
   "display_name": "Python 3",
   "language": "python",
   "name": "python3"
  },
  "language_info": {
   "codemirror_mode": {
    "name": "ipython",
    "version": 3
   },
   "file_extension": ".py",
   "mimetype": "text/x-python",
   "name": "python",
   "nbconvert_exporter": "python",
   "pygments_lexer": "ipython3",
   "version": "3.7.3"
  }
 },
 "nbformat": 4,
 "nbformat_minor": 4
}
