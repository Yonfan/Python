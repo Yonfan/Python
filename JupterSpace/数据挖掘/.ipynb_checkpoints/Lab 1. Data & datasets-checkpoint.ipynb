{
 "cells": [
  {
   "cell_type": "markdown",
   "metadata": {},
   "source": [
    "# Lab 1. DataFrame数据集读取和分析 \n",
    "\n",
    "Pandas是最常用的Python数据集操作模块，提供了非常便利的数据集操纵功能。Series和DataFrame是其中最主要的类。\n",
    "\n",
    "Series对应于列，DataFrame对应于二维表。可以先定义Series再用若干个Series定义DataFrame，也可以直接定义DataFrame。\n",
    "\n",
    "本节主要介绍DataFrame的创建和使用方法。"
   ]
  },
  {
   "cell_type": "markdown",
   "metadata": {},
   "source": [
    "## 1. 从CSV文件中创建DataFrame\n",
    "\n",
    "Pandas 的 read_csv 方法是最主要的从 CSV 文件中加载数据集的方法。\n",
    "\n",
    "缺省情况下认为首行是属性名，即列名。也可以通过 read_csv 方法的 header 参数指定。"
   ]
  },
  {
   "cell_type": "code",
   "execution_count": 3,
   "metadata": {},
   "outputs": [
    {
     "name": "stdout",
     "output_type": "stream",
     "text": [
      "E:\\python\\JupterSpace\\数据挖掘\\\n"
     ]
    }
   ],
   "source": [
    "import pandas as pd\n",
    "import os\n",
    "import numpy as np"
   ]
  },
  {
   "cell_type": "code",
   "execution_count": 19,
   "metadata": {},
   "outputs": [
    {
     "name": "stdout",
     "output_type": "stream",
     "text": [
      "df.cloumns\n",
      "Int64Index([0, 1, 2, 3, 4], dtype='int64')\n",
      "df.dtype\n",
      "0    float64\n",
      "1    float64\n",
      "2    float64\n",
      "3    float64\n",
      "4     object\n",
      "dtype: object\n"
     ]
    }
   ],
   "source": [
    "path = os.getcwd() + os.path.sep + '/data/iris.csv'\n",
    "df = pd.DataFrame(pd.read_csv(path,header=None))\n",
    "df.describe()\n",
    "print(\"df.cloumns\")\n",
    "print(df.columns)\n",
    "print(\"df.dtype\")\n",
    "print(df.dtypes)"
   ]
  },
  {
   "cell_type": "markdown",
   "metadata": {},
   "source": [
    "### 1.1 添加列名\n",
    "如果数据集中不包含列名，有时需要加上列名，可用的方法有以下几种：\n",
    "\n",
    "* 使用columns重命名\n",
    "* 使用rename()方法\n",
    "\n",
    "【注意】rename()方法默认会使用新的列名新建一个dataframe，如果要在原来的dataframe上修改，可以设置参数inplace为True"
   ]
  },
  {
   "cell_type": "code",
   "execution_count": 11,
   "metadata": {},
   "outputs": [
    {
     "name": "stdout",
     "output_type": "stream",
     "text": [
      "<class 'pandas.core.frame.DataFrame'>\n",
      "RangeIndex: 150 entries, 0 to 149\n",
      "Data columns (total 5 columns):\n",
      "sepallength    150 non-null float64\n",
      "sepalwidth     150 non-null float64\n",
      "petallength    150 non-null float64\n",
      "petalwidth     150 non-null float64\n",
      "class          150 non-null object\n",
      "dtypes: float64(4), object(1)\n",
      "memory usage: 5.9+ KB\n"
     ]
    }
   ],
   "source": [
    "df.columns = ['sepallength', 'sepalwidth', 'petallength', 'petalwidth', 'class']\n",
    "# df.dtypes\n",
    "df.info()"
   ]
  },
  {
   "cell_type": "code",
   "execution_count": 7,
   "metadata": {},
   "outputs": [
    {
     "name": "stdout",
     "output_type": "stream",
     "text": [
      "Index(['sepallength', 'sepalwidth', 'petallength', 'petalwidth',\n",
      "       'flower_subtype'],\n",
      "      dtype='object')\n",
      "Index(['sepallength', 'sepalwidth', 'petallength', 'petalwidth', 'class'], dtype='object')\n"
     ]
    }
   ],
   "source": [
    "df1 = df.rename(columns={'class': 'flower_subtype'})\n",
    "print(df1.columns)\n",
    "print(df.columns)"
   ]
  },
  {
   "cell_type": "markdown",
   "metadata": {},
   "source": [
    "还可以使用 lambda 表达式进行批量修改："
   ]
  },
  {
   "cell_type": "code",
   "execution_count": null,
   "metadata": {},
   "outputs": [],
   "source": [
    "# 去掉前两个字符\n",
    "df.rename(columns=lambda x: x[1:], inplace=True)\n",
    "df"
   ]
  },
  {
   "cell_type": "markdown",
   "metadata": {},
   "source": [
    "### 【注意】\n",
    "\n",
    "<b>1、对于属性比较多的数据集，可能需要用正则表达式等方法生成首行属性名。</b>\n",
    "\n",
    "比如weka中的supermarket数据集，记录了超市中的各类商品共217个属性（包括类属性）。"
   ]
  },
  {
   "cell_type": "code",
   "execution_count": 36,
   "metadata": {},
   "outputs": [
    {
     "data": {
      "text/plain": [
       "Index(['department1', 'department2', 'department3', 'department4',\n",
       "       'department5', 'department6', 'department7', 'department8',\n",
       "       'department9', 'grocery misc',\n",
       "       ...\n",
       "       'department208', 'department209', 'department210', 'department211',\n",
       "       'department212', 'department213', 'department214', 'department215',\n",
       "       'department216', 'total'],\n",
       "      dtype='object', length=217)"
      ]
     },
     "execution_count": 36,
     "metadata": {},
     "output_type": "execute_result"
    }
   ],
   "source": [
    "path = os.getcwd() + os.path.sep + '/data/supermarket.csv'\n",
    "df_market = pd.DataFrame(pd.read_csv(path))\n",
    "df_market.columns"
   ]
  },
  {
   "cell_type": "markdown",
   "metadata": {},
   "source": [
    "<b>2、对于大文件，需要分块读取</b>\n",
    "\n",
    "Pandas的read_csv方法提供了众多参数，参见\n",
    "\n",
    "https://blog.csdn.net/sinat_35562946/article/details/81058221\n",
    "https://pandas.pydata.org/pandas-docs/stable/reference/api/pandas.read_csv.html"
   ]
  },
  {
   "cell_type": "markdown",
   "metadata": {},
   "source": [
    "## 2.程序中定义DataFrame\n",
    "\n",
    "Pandas所支持的数据类型包括以下几种：\n",
    "* float\n",
    "* int\n",
    "* bool\n",
    "* datetime64\n",
    "* timedelta[ns]\n",
    "* category\n",
    "* object\n",
    "\n",
    "下面构建一个名为df的dataframe数据，来举例说明怎么查看数据类型以及相关判断"
   ]
  },
  {
   "cell_type": "code",
   "execution_count": 25,
   "metadata": {},
   "outputs": [
    {
     "data": {
      "text/html": [
       "<div>\n",
       "<style scoped>\n",
       "    .dataframe tbody tr th:only-of-type {\n",
       "        vertical-align: middle;\n",
       "    }\n",
       "\n",
       "    .dataframe tbody tr th {\n",
       "        vertical-align: top;\n",
       "    }\n",
       "\n",
       "    .dataframe thead th {\n",
       "        text-align: right;\n",
       "    }\n",
       "</style>\n",
       "<table border=\"1\" class=\"dataframe\">\n",
       "  <thead>\n",
       "    <tr style=\"text-align: right;\">\n",
       "      <th></th>\n",
       "      <th>string</th>\n",
       "      <th>int64</th>\n",
       "      <th>uint8</th>\n",
       "      <th>float64</th>\n",
       "      <th>bool1</th>\n",
       "      <th>bool2</th>\n",
       "      <th>dates</th>\n",
       "      <th>category</th>\n",
       "    </tr>\n",
       "  </thead>\n",
       "  <tbody>\n",
       "    <tr>\n",
       "      <th>0</th>\n",
       "      <td>a</td>\n",
       "      <td>1</td>\n",
       "      <td>3</td>\n",
       "      <td>4.0</td>\n",
       "      <td>True</td>\n",
       "      <td>False</td>\n",
       "      <td>2019-09-18 17:03:28.724923</td>\n",
       "      <td>A</td>\n",
       "    </tr>\n",
       "    <tr>\n",
       "      <th>1</th>\n",
       "      <td>b</td>\n",
       "      <td>2</td>\n",
       "      <td>4</td>\n",
       "      <td>5.0</td>\n",
       "      <td>False</td>\n",
       "      <td>True</td>\n",
       "      <td>2019-09-19 17:03:28.724923</td>\n",
       "      <td>B</td>\n",
       "    </tr>\n",
       "    <tr>\n",
       "      <th>2</th>\n",
       "      <td>c</td>\n",
       "      <td>3</td>\n",
       "      <td>5</td>\n",
       "      <td>6.0</td>\n",
       "      <td>True</td>\n",
       "      <td>False</td>\n",
       "      <td>2019-09-20 17:03:28.724923</td>\n",
       "      <td>C</td>\n",
       "    </tr>\n",
       "  </tbody>\n",
       "</table>\n",
       "</div>"
      ],
      "text/plain": [
       "  string  int64  uint8  float64  bool1  bool2                      dates  \\\n",
       "0      a      1      3      4.0   True  False 2019-09-18 17:03:28.724923   \n",
       "1      b      2      4      5.0  False   True 2019-09-19 17:03:28.724923   \n",
       "2      c      3      5      6.0   True  False 2019-09-20 17:03:28.724923   \n",
       "\n",
       "  category  \n",
       "0        A  \n",
       "1        B  \n",
       "2        C  "
      ]
     },
     "execution_count": 25,
     "metadata": {},
     "output_type": "execute_result"
    }
   ],
   "source": [
    "df2 = pd.DataFrame({\n",
    "    #'string': ['ab','bc', 'cd'],\n",
    "    'string': list('abc'),\n",
    "    'int64': list(range(1,4)),\n",
    "    'uint8': np.arange(3,6).astype('u1'),\n",
    "    'float64': np.arange(4.0, 7.0),\n",
    "    'bool1':[True, False, True],\n",
    "    'bool2':[False, True, False],\n",
    "    'dates':pd.date_range('now', periods=3).values,\n",
    "    #'category':pd.Series(['A1','B1','C1']).astype('category')\n",
    "    'category':pd.Series(list(\"ABC\")).astype('category')\n",
    "})\n",
    "df2\n",
    "# df2.dtypes #查看对应的类型"
   ]
  },
  {
   "cell_type": "markdown",
   "metadata": {},
   "source": [
    "先定义Series(列)，再定义DataFrame："
   ]
  },
  {
   "cell_type": "code",
   "execution_count": 22,
   "metadata": {},
   "outputs": [
    {
     "data": {
      "text/plain": [
       "California    38332521\n",
       "Texas         26448193\n",
       "New York      19651127\n",
       "Florida       19552860\n",
       "Illinois      12882135\n",
       "dtype: int64"
      ]
     },
     "execution_count": 22,
     "metadata": {},
     "output_type": "execute_result"
    }
   ],
   "source": [
    "population_dict = {'California':38332521,\n",
    "                  'Texas':26448193,\n",
    "                  'New York':19651127,\n",
    "                  'Florida':19552860,\n",
    "                  'Illinois':12882135}\n",
    "population=pd.Series(population_dict)\n",
    "population"
   ]
  },
  {
   "cell_type": "code",
   "execution_count": 23,
   "metadata": {},
   "outputs": [
    {
     "data": {
      "text/plain": [
       "California    423967\n",
       "Texas         695662\n",
       "New York      141297\n",
       "Florida       170312\n",
       "Illinois      149995\n",
       "dtype: int64"
      ]
     },
     "execution_count": 23,
     "metadata": {},
     "output_type": "execute_result"
    }
   ],
   "source": [
    "area_dict = {'California':423967, 'Texas':695662, 'New York':141297, 'Florida':170312, 'Illinois':149995}\n",
    "area = pd.Series(area_dict)\n",
    "area"
   ]
  },
  {
   "cell_type": "code",
   "execution_count": 27,
   "metadata": {},
   "outputs": [
    {
     "data": {
      "text/html": [
       "<div>\n",
       "<style scoped>\n",
       "    .dataframe tbody tr th:only-of-type {\n",
       "        vertical-align: middle;\n",
       "    }\n",
       "\n",
       "    .dataframe tbody tr th {\n",
       "        vertical-align: top;\n",
       "    }\n",
       "\n",
       "    .dataframe thead th {\n",
       "        text-align: right;\n",
       "    }\n",
       "</style>\n",
       "<table border=\"1\" class=\"dataframe\">\n",
       "  <thead>\n",
       "    <tr style=\"text-align: right;\">\n",
       "      <th></th>\n",
       "      <th>population</th>\n",
       "      <th>area</th>\n",
       "    </tr>\n",
       "  </thead>\n",
       "  <tbody>\n",
       "    <tr>\n",
       "      <th>California</th>\n",
       "      <td>38332521</td>\n",
       "      <td>423967</td>\n",
       "    </tr>\n",
       "    <tr>\n",
       "      <th>Texas</th>\n",
       "      <td>26448193</td>\n",
       "      <td>695662</td>\n",
       "    </tr>\n",
       "    <tr>\n",
       "      <th>New York</th>\n",
       "      <td>19651127</td>\n",
       "      <td>141297</td>\n",
       "    </tr>\n",
       "    <tr>\n",
       "      <th>Florida</th>\n",
       "      <td>19552860</td>\n",
       "      <td>170312</td>\n",
       "    </tr>\n",
       "    <tr>\n",
       "      <th>Illinois</th>\n",
       "      <td>12882135</td>\n",
       "      <td>149995</td>\n",
       "    </tr>\n",
       "  </tbody>\n",
       "</table>\n",
       "</div>"
      ],
      "text/plain": [
       "            population    area\n",
       "California    38332521  423967\n",
       "Texas         26448193  695662\n",
       "New York      19651127  141297\n",
       "Florida       19552860  170312\n",
       "Illinois      12882135  149995"
      ]
     },
     "execution_count": 27,
     "metadata": {},
     "output_type": "execute_result"
    }
   ],
   "source": [
    "states = pd.DataFrame({'population':population, 'area':area}) #将上述定义的二个数据集重新合成一个新的数据集\n",
    "states"
   ]
  },
  {
   "cell_type": "markdown",
   "metadata": {},
   "source": [
    "## 3. 查看数据\n",
    "\n",
    "describe()、info()方法可以显示数据集中每列的基本信息。如果数据集中包含多个类型的字段，describe()方法会因为数据冗余而只显示主要数据类型的信息，而info()方法会显示所有属性的信息。\n",
    "\n",
    "查看DataFrame的索引、列、值、数据类型，用 .index、.columns、.values、.dtypes 即可。"
   ]
  },
  {
   "cell_type": "code",
   "execution_count": 34,
   "metadata": {},
   "outputs": [
    {
     "name": "stdout",
     "output_type": "stream",
     "text": [
      "df.columns\n"
     ]
    },
    {
     "data": {
      "text/plain": [
       "Int64Index([0, 1, 2, 3, 4], dtype='int64')"
      ]
     },
     "execution_count": 34,
     "metadata": {},
     "output_type": "execute_result"
    }
   ],
   "source": [
    "# print(\"df.info()\")\n",
    "# df.info()\n",
    "print(\"df.columns\")\n",
    "df.columns\n",
    "# print(\"df.describe(include='all')\")\n",
    "# df.describe(include='all')\n",
    "# print(\"df.describe(include=np.number)\")\n",
    "# df.describe(include=np.number)\n",
    "# print(\"df.describe(include='category')\")\n",
    "# df.describe(include='category')\n",
    "# print(\"df2.describe(include=np.object)\")\n",
    "# df2.describe(include=np.object)\n",
    "\n",
    "# 如果数据集中不包含object类型的数据，则会出错：\n",
    "#df.describe(include=np.object)"
   ]
  },
  {
   "cell_type": "markdown",
   "metadata": {},
   "source": [
    "## 4. 强制字段类型转换\n",
    "\n",
    "DataFrame 中提供了 astype 方法来实现强制类型转换。astype 主要有三种用法：\n",
    "\n",
    "* 以列表的形式列出所有要转换的列\n",
    "* 转换某一个列\n",
    "* 如果列名不是保留字，可以直接引用"
   ]
  },
  {
   "cell_type": "code",
   "execution_count": 47,
   "metadata": {},
   "outputs": [
    {
     "name": "stdout",
     "output_type": "stream",
     "text": [
      "<class 'pandas.core.frame.DataFrame'>\n",
      "RangeIndex: 150 entries, 0 to 149\n",
      "Data columns (total 5 columns):\n",
      "0    150 non-null float64\n",
      "1    150 non-null float64\n",
      "2    150 non-null float64\n",
      "3    150 non-null float64\n",
      "4    150 non-null object\n",
      "dtypes: float64(4), object(1)\n",
      "memory usage: 5.9+ KB\n"
     ]
    }
   ],
   "source": [
    "df = df.astype({'class':'category'})\n",
    "df['class'] = df['class'].astype('category')\n",
    "df_market = df_market.total.astype('category')\n",
    "# df.info()\n",
    "print(df.info)\n",
    "print(df_market)"
   ]
  },
  {
   "cell_type": "markdown",
   "metadata": {},
   "source": [
    "## 5. 读取数据"
   ]
  },
  {
   "cell_type": "code",
   "execution_count": null,
   "metadata": {},
   "outputs": [],
   "source": [
    "print(df.keys())\n",
    "df.describe()"
   ]
  },
  {
   "cell_type": "code",
   "execution_count": null,
   "metadata": {},
   "outputs": [],
   "source": [
    "list(df.items())"
   ]
  },
  {
   "cell_type": "markdown",
   "metadata": {},
   "source": [
    "获取一条实例："
   ]
  },
  {
   "cell_type": "code",
   "execution_count": null,
   "metadata": {},
   "outputs": [],
   "source": [
    "df.loc[2]"
   ]
  },
  {
   "cell_type": "code",
   "execution_count": null,
   "metadata": {},
   "outputs": [],
   "source": [
    "df.loc[2:3]"
   ]
  },
  {
   "cell_type": "markdown",
   "metadata": {},
   "source": [
    "### Python的设计原则之一是“显示优于隐式”，所以强烈推荐使用这两种索引器取值\n",
    "\n",
    "### 5.1 切片"
   ]
  },
  {
   "cell_type": "code",
   "execution_count": null,
   "metadata": {},
   "outputs": [],
   "source": [
    "df.sepallength.loc[0:5]"
   ]
  },
  {
   "cell_type": "markdown",
   "metadata": {},
   "source": [
    "### 5.2 切块"
   ]
  },
  {
   "cell_type": "code",
   "execution_count": null,
   "metadata": {},
   "outputs": [],
   "source": [
    "# 获取前三行的数据\n",
    "df.loc[:2]\n",
    "df.head(3)\n",
    "\n",
    "# 获取后三行的数据\n",
    "df.tail(3)\n",
    "\n",
    "# 获取100-102行的数据\n",
    "df.loc[100:102]"
   ]
  },
  {
   "cell_type": "code",
   "execution_count": null,
   "metadata": {},
   "outputs": [],
   "source": [
    "# 获取前两行的前三列数据\n",
    "df.iloc[:2,:3]"
   ]
  },
  {
   "cell_type": "code",
   "execution_count": null,
   "metadata": {},
   "outputs": [],
   "source": [
    "# 筛选满足条件的数据\n",
    "df[df.sepallength>7.0]\n",
    "\n",
    "# 查看满足条件的数据的类别属性取值？\n",
    "\n",
    "\n",
    "# 查看满足条件的数据的类别属性取值（不重复）？\n"
   ]
  },
  {
   "cell_type": "code",
   "execution_count": null,
   "metadata": {},
   "outputs": [],
   "source": [
    "# 使用索引器完成筛选\n",
    "df.loc[df.sepallength>7.0, 'petalwidth']"
   ]
  },
  {
   "cell_type": "markdown",
   "metadata": {},
   "source": [
    "## 6. 修改数据\n",
    "\n",
    "DataFrame 可以用 loc 索引器来实现数据的修改，loc方法实际上是定位某个位置的数据的，但是定位完以后就可以对此位置的数据进行修改，可以进行的修改如下：\n",
    "\n",
    "* 对某行、某N行进行修改；\n",
    "* 对某列、某N列进行修改；\n",
    "* 对横坐标为某行或某N行，纵坐标为某列或者某N列的数据进行修改；\n",
    "\n",
    "### 6.1 对某行、某N行进行修改"
   ]
  },
  {
   "cell_type": "code",
   "execution_count": null,
   "metadata": {},
   "outputs": [],
   "source": [
    "df.head(2)"
   ]
  },
  {
   "cell_type": "code",
   "execution_count": null,
   "metadata": {},
   "outputs": [],
   "source": [
    "df.loc[1:1, ('sepallength', 'sepalwidth', 'petallength', 'petalwidth', 'class')]=[5.0, 3.1, 1.5, 0.3, 'Iris-setosa']\n",
    "df.head(2)"
   ]
  },
  {
   "cell_type": "code",
   "execution_count": null,
   "metadata": {},
   "outputs": [],
   "source": [
    "df.loc[0:1, ('sepallength', 'sepalwidth', 'petallength', 'petalwidth', 'class')]=[[5.2, 3.6, 1.5, 0.3, 'Iris-setosa'],[5.0, 3.1, 1.5, 0.3, 'Iris-setosa']]\n",
    "df.head(2)"
   ]
  },
  {
   "cell_type": "markdown",
   "metadata": {},
   "source": [
    "### 6.2 对某列、某N列进行修改"
   ]
  },
  {
   "cell_type": "code",
   "execution_count": null,
   "metadata": {},
   "outputs": [],
   "source": [
    "df.loc[0:1,('petalwidth')]=1.4\n",
    "df.head(2)"
   ]
  }
 ],
 "metadata": {
  "kernelspec": {
   "display_name": "Python 3",
   "language": "python",
   "name": "python3"
  },
  "language_info": {
   "codemirror_mode": {
    "name": "ipython",
    "version": 3
   },
   "file_extension": ".py",
   "mimetype": "text/x-python",
   "name": "python",
   "nbconvert_exporter": "python",
   "pygments_lexer": "ipython3",
   "version": "3.7.3"
  }
 },
 "nbformat": 4,
 "nbformat_minor": 4
}
