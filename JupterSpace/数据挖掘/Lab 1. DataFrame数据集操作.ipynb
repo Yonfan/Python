{
 "cells": [
  {
   "cell_type": "markdown",
   "metadata": {},
   "source": [
    "# Lab 1. DataFrame数据集读取和分析 \n",
    "\n",
    "Pandas是最常用的Python数据集操作模块，提供了非常便利的数据集操纵功能。Series和DataFrame是其中最主要的类。\n",
    "\n",
    "Series对应于列，DataFrame对应于二维表。可以先定义Series再用若干个Series定义DataFrame，也可以直接定义DataFrame。\n",
    "\n",
    "本节主要介绍DataFrame的创建和使用方法。"
   ]
  },
  {
   "cell_type": "markdown",
   "metadata": {},
   "source": [
    "## 1. 从CSV文件中创建DataFrame\n",
    "\n",
    "Pandas 的 read_csv 方法是最主要的从 CSV 文件中加载数据集的方法。\n",
    "\n",
    "缺省情况下认为首行是属性名，即列名。也可以通过 read_csv 方法的 header 参数指定。"
   ]
  },
  {
   "cell_type": "code",
   "execution_count": null,
   "metadata": {},
   "outputs": [],
   "source": [
    "import pandas as pd\n",
    "import os\n",
    "import numpy as np"
   ]
  },
  {
   "cell_type": "code",
   "execution_count": null,
   "metadata": {},
   "outputs": [],
   "source": [
    "path = os.getcwd() + os.path.sep + 'iris.csv'\n",
    "df = pd.DataFrame(pd.read_csv(path,header=None))\n",
    "print(df.describe)\n",
    "print(df.columns)\n",
    "print(df.dtypes)"
   ]
  },
  {
   "cell_type": "markdown",
   "metadata": {},
   "source": [
    "### 1.1 添加列名\n",
    "如果数据集中不包含列名，有时需要加上列名，可用的方法有以下几种：\n",
    "\n",
    "* 使用columns重命名\n",
    "* 使用rename()方法\n",
    "\n",
    "【注意】rename()方法默认会使用新的列名新建一个dataframe，如果要在原来的dataframe上修改，可以设置参数inplace为True"
   ]
  },
  {
   "cell_type": "code",
   "execution_count": null,
   "metadata": {},
   "outputs": [],
   "source": [
    "df.columns = ['sepallength', 'sepalwidth', 'petallength', 'petalwidth', 'class']\n",
    "df.dtypes"
   ]
  },
  {
   "cell_type": "code",
   "execution_count": null,
   "metadata": {},
   "outputs": [],
   "source": [
    "df1 = df.rename(columns={'class': 'flower_subtype'})\n",
    "print(df1.columns)\n",
    "print(df.columns)"
   ]
  },
  {
   "cell_type": "markdown",
   "metadata": {},
   "source": [
    "还可以使用 lambda 表达式进行批量修改："
   ]
  },
  {
   "cell_type": "code",
   "execution_count": null,
   "metadata": {},
   "outputs": [],
   "source": [
    "# 去掉前两个字符\n",
    "df.rename(columns=lambda x: x[1:], inplace=True)\n",
    "df"
   ]
  },
  {
   "cell_type": "markdown",
   "metadata": {},
   "source": [
    "### 【注意】\n",
    "\n",
    "<b>1、对于属性比较多的数据集，可能需要用正则表达式等方法生成首行属性名。</b>\n",
    "\n",
    "比如weka中的supermarket数据集，记录了超市中的各类商品共217个属性（包括类属性）。"
   ]
  },
  {
   "cell_type": "code",
   "execution_count": null,
   "metadata": {},
   "outputs": [],
   "source": [
    "path = os.getcwd() + os.path.sep + 'supermarket.csv'\n",
    "df_market = pd.DataFrame(pd.read_csv(path))\n",
    "df_market.columns"
   ]
  },
  {
   "cell_type": "markdown",
   "metadata": {},
   "source": [
    "<b>2、对于大文件，需要分块读取</b>\n",
    "\n",
    "Pandas的read_csv方法提供了众多参数，参见\n",
    "\n",
    "https://blog.csdn.net/sinat_35562946/article/details/81058221\n",
    "https://pandas.pydata.org/pandas-docs/stable/reference/api/pandas.read_csv.html"
   ]
  },
  {
   "cell_type": "markdown",
   "metadata": {},
   "source": [
    "## 2.程序中定义DataFrame\n",
    "\n",
    "Pandas所支持的数据类型包括以下几种：\n",
    "* float\n",
    "* int\n",
    "* bool\n",
    "* datetime64\n",
    "* timedelta[ns]\n",
    "* category\n",
    "* object\n",
    "\n",
    "下面构建一个名为df的dataframe数据，来举例说明怎么查看数据类型以及相关判断"
   ]
  },
  {
   "cell_type": "code",
   "execution_count": 62,
   "metadata": {},
   "outputs": [
    {
     "data": {
      "text/plain": [
       "string              object\n",
       "int64                int64\n",
       "uint8                uint8\n",
       "float64            float64\n",
       "bool1                 bool\n",
       "bool2                 bool\n",
       "dates       datetime64[ns]\n",
       "category          category\n",
       "dtype: object"
      ]
     },
     "execution_count": 62,
     "metadata": {},
     "output_type": "execute_result"
    }
   ],
   "source": [
    "df2 = pd.DataFrame({\n",
    "    #'string': ['ab','bc', 'cd'],\n",
    "    'string': list('abc'),\n",
    "    'int64': list(range(1,4)),\n",
    "    'uint8': np.arange(3,6).astype('u1'),\n",
    "    'float64': np.arange(4.0, 7.0),\n",
    "    'bool1':[True, False, True],\n",
    "    'bool2':[False, True, False],\n",
    "    'dates':pd.date_range('now', periods=3).values,\n",
    "    #'category':pd.Series(['A1','B1','C1']).astype('category')\n",
    "    'category':pd.Series(list(\"ABC\")).astype('category')\n",
    "})\n",
    "df2.dtypes"
   ]
  },
  {
   "cell_type": "markdown",
   "metadata": {},
   "source": [
    "先定义Series，再定义DataFrame："
   ]
  },
  {
   "cell_type": "code",
   "execution_count": null,
   "metadata": {},
   "outputs": [],
   "source": [
    "population_dict = {'California':38332521,\n",
    "                  'Texas':26448193,\n",
    "                  'New York':19651127,\n",
    "                  'Florida':19552860,\n",
    "                  'Illinois':12882135}\n",
    "population=pd.Series(population_dict)\n",
    "population"
   ]
  },
  {
   "cell_type": "code",
   "execution_count": null,
   "metadata": {},
   "outputs": [],
   "source": [
    "area_dict = {'California':423967, 'Texas':695662, 'New York':141297, 'Florida':170312, 'Illinois':149995}\n",
    "area = pd.Series(area_dict)\n",
    "area"
   ]
  },
  {
   "cell_type": "code",
   "execution_count": null,
   "metadata": {},
   "outputs": [],
   "source": [
    "states = pd.DataFrame({'population':population, 'area':area})\n",
    "states"
   ]
  },
  {
   "cell_type": "markdown",
   "metadata": {},
   "source": [
    "## 3. 查看数据\n",
    "\n",
    "describe()方法可以显示数据集中每列的基本信息。\n",
    "\n",
    "查看DataFrame的索引、列、值、数据类型，用 .index、.columns、.values、.dtypes 即可。"
   ]
  },
  {
   "cell_type": "code",
   "execution_count": 64,
   "metadata": {},
   "outputs": [
    {
     "data": {
      "text/html": [
       "<div>\n",
       "<style scoped>\n",
       "    .dataframe tbody tr th:only-of-type {\n",
       "        vertical-align: middle;\n",
       "    }\n",
       "\n",
       "    .dataframe tbody tr th {\n",
       "        vertical-align: top;\n",
       "    }\n",
       "\n",
       "    .dataframe thead th {\n",
       "        text-align: right;\n",
       "    }\n",
       "</style>\n",
       "<table border=\"1\" class=\"dataframe\">\n",
       "  <thead>\n",
       "    <tr style=\"text-align: right;\">\n",
       "      <th></th>\n",
       "      <th>string</th>\n",
       "    </tr>\n",
       "  </thead>\n",
       "  <tbody>\n",
       "    <tr>\n",
       "      <th>count</th>\n",
       "      <td>3</td>\n",
       "    </tr>\n",
       "    <tr>\n",
       "      <th>unique</th>\n",
       "      <td>3</td>\n",
       "    </tr>\n",
       "    <tr>\n",
       "      <th>top</th>\n",
       "      <td>b</td>\n",
       "    </tr>\n",
       "    <tr>\n",
       "      <th>freq</th>\n",
       "      <td>1</td>\n",
       "    </tr>\n",
       "  </tbody>\n",
       "</table>\n",
       "</div>"
      ],
      "text/plain": [
       "       string\n",
       "count       3\n",
       "unique      3\n",
       "top         b\n",
       "freq        1"
      ]
     },
     "execution_count": 64,
     "metadata": {},
     "output_type": "execute_result"
    }
   ],
   "source": [
    "#df.columns\n",
    "\n",
    "#df.describe(include='all')\n",
    "\n",
    "#df.describe(include=np.number)\n",
    "\n",
    "#df.describe(include='category')\n",
    "\n",
    "#df2.describe(include=np.object)\n",
    "\n",
    "# 如果数据集中不包含object类型的数据，则会出错：\n",
    "#df.describe(include=np.object)"
   ]
  },
  {
   "cell_type": "markdown",
   "metadata": {},
   "source": [
    "## 4. 强制字段类型转换\n",
    "\n",
    "DataFrame 中提供了 astype 方法来实现强制类型转换。astype 主要有三种用法：\n",
    "\n",
    "* 以列表的形式列出所有要转换的列\n",
    "* 转换某一个列\n",
    "* 如果列名不是保留字，可以直接引用"
   ]
  },
  {
   "cell_type": "code",
   "execution_count": null,
   "metadata": {},
   "outputs": [],
   "source": [
    "df = df.astype({'class':'category'})\n",
    "df['class'] = df['class'].astype('category')\n",
    "df_market = df_market.total.astype('category')\n",
    "\n",
    "print(df.dtypes)\n",
    "print(df_market)"
   ]
  },
  {
   "cell_type": "markdown",
   "metadata": {},
   "source": [
    "## 5. 读取数据"
   ]
  },
  {
   "cell_type": "code",
   "execution_count": null,
   "metadata": {},
   "outputs": [],
   "source": [
    "print(df.keys())\n",
    "df.describe()"
   ]
  },
  {
   "cell_type": "code",
   "execution_count": null,
   "metadata": {},
   "outputs": [],
   "source": [
    "list(df.items())"
   ]
  },
  {
   "cell_type": "markdown",
   "metadata": {},
   "source": [
    "获取一条实例："
   ]
  },
  {
   "cell_type": "code",
   "execution_count": null,
   "metadata": {},
   "outputs": [],
   "source": [
    "df.loc[2]"
   ]
  },
  {
   "cell_type": "code",
   "execution_count": null,
   "metadata": {},
   "outputs": [],
   "source": [
    "df.loc[2:3]"
   ]
  },
  {
   "cell_type": "markdown",
   "metadata": {},
   "source": [
    "### Python的设计原则之一是“显示优于隐式”，所以强烈推荐使用这两种索引器取值\n",
    "\n",
    "### 5.1 切片"
   ]
  },
  {
   "cell_type": "code",
   "execution_count": null,
   "metadata": {},
   "outputs": [],
   "source": [
    "df.sepallength.loc[0:5]"
   ]
  },
  {
   "cell_type": "markdown",
   "metadata": {},
   "source": [
    "### 5.2 切块"
   ]
  },
  {
   "cell_type": "code",
   "execution_count": null,
   "metadata": {},
   "outputs": [],
   "source": [
    "# 获取前三行的数据\n",
    "df.loc[:2]\n",
    "df.head(3)\n",
    "\n",
    "# 获取后三行的数据\n",
    "df.tail(3)\n",
    "\n",
    "# 获取100-102行的数据\n",
    "df.loc[100:102]"
   ]
  },
  {
   "cell_type": "code",
   "execution_count": null,
   "metadata": {},
   "outputs": [],
   "source": [
    "# 获取前两行的前三列数据\n",
    "df.iloc[:2,:3]"
   ]
  },
  {
   "cell_type": "code",
   "execution_count": null,
   "metadata": {},
   "outputs": [],
   "source": [
    "# 筛选满足条件的数据\n",
    "df[df.sepallength>7.0]\n",
    "\n",
    "# 查看满足条件的数据的类别属性取值？\n",
    "\n",
    "\n",
    "# 查看满足条件的数据的类别属性取值（不重复）？\n"
   ]
  },
  {
   "cell_type": "code",
   "execution_count": null,
   "metadata": {},
   "outputs": [],
   "source": [
    "# 使用索引器完成筛选\n",
    "df.loc[df.sepallength>7.0, 'petalwidth']"
   ]
  },
  {
   "cell_type": "markdown",
   "metadata": {},
   "source": [
    "### 5.3 分组与统计\n",
    "\n",
    "Pandas 提供的主要累计方法有 count()、first()、last()、mean()、median()、min()、max()、std()、var()、mad()（均值绝对偏差）、prod()（所有项乘积）、sum()（所有项求和）。\n",
    "\n",
    "\n",
    "<b>方法一：按列取值</b>\n",
    "\n",
    "groupby() 方法返回的是一个 DataFrameGroupBy 对象，在进行下一步聚合运算之前，该对象不会计算。比如，下面代码可以获得不同鸢尾花类型下所有花瓣长度的中位数。"
   ]
  },
  {
   "cell_type": "code",
   "execution_count": 65,
   "metadata": {},
   "outputs": [
    {
     "data": {
      "text/plain": [
       "class\n",
       "Iris-setosa        1.50\n",
       "Iris-versicolor    4.35\n",
       "Iris-virginica     5.55\n",
       "Name: petallength, dtype: float64"
      ]
     },
     "execution_count": 65,
     "metadata": {},
     "output_type": "execute_result"
    }
   ],
   "source": [
    "df.groupby('class')['petallength'].median()"
   ]
  },
  {
   "cell_type": "code",
   "execution_count": 70,
   "metadata": {},
   "outputs": [
    {
     "name": "stdout",
     "output_type": "stream",
     "text": [
      "Iris-setosa                    shape=(50, 5)\n",
      "Iris-versicolor                shape=(50, 5)\n",
      "Iris-virginica                 shape=(50, 5)\n"
     ]
    }
   ],
   "source": [
    "for (c, group) in df.groupby('class'):\n",
    "    # {0:30s} 用于实现两端对齐\n",
    "   print(\"{0:30s} shape={1}\".format(c, group.shape))"
   ]
  },
  {
   "cell_type": "code",
   "execution_count": 71,
   "metadata": {},
   "outputs": [
    {
     "data": {
      "text/html": [
       "<div>\n",
       "<style scoped>\n",
       "    .dataframe tbody tr th:only-of-type {\n",
       "        vertical-align: middle;\n",
       "    }\n",
       "\n",
       "    .dataframe tbody tr th {\n",
       "        vertical-align: top;\n",
       "    }\n",
       "\n",
       "    .dataframe thead th {\n",
       "        text-align: right;\n",
       "    }\n",
       "</style>\n",
       "<table border=\"1\" class=\"dataframe\">\n",
       "  <thead>\n",
       "    <tr style=\"text-align: right;\">\n",
       "      <th></th>\n",
       "      <th>count</th>\n",
       "      <th>mean</th>\n",
       "      <th>std</th>\n",
       "      <th>min</th>\n",
       "      <th>25%</th>\n",
       "      <th>50%</th>\n",
       "      <th>75%</th>\n",
       "      <th>max</th>\n",
       "    </tr>\n",
       "    <tr>\n",
       "      <th>class</th>\n",
       "      <th></th>\n",
       "      <th></th>\n",
       "      <th></th>\n",
       "      <th></th>\n",
       "      <th></th>\n",
       "      <th></th>\n",
       "      <th></th>\n",
       "      <th></th>\n",
       "    </tr>\n",
       "  </thead>\n",
       "  <tbody>\n",
       "    <tr>\n",
       "      <th>Iris-setosa</th>\n",
       "      <td>50.0</td>\n",
       "      <td>1.464</td>\n",
       "      <td>0.173511</td>\n",
       "      <td>1.0</td>\n",
       "      <td>1.4</td>\n",
       "      <td>1.50</td>\n",
       "      <td>1.575</td>\n",
       "      <td>1.9</td>\n",
       "    </tr>\n",
       "    <tr>\n",
       "      <th>Iris-versicolor</th>\n",
       "      <td>50.0</td>\n",
       "      <td>4.260</td>\n",
       "      <td>0.469911</td>\n",
       "      <td>3.0</td>\n",
       "      <td>4.0</td>\n",
       "      <td>4.35</td>\n",
       "      <td>4.600</td>\n",
       "      <td>5.1</td>\n",
       "    </tr>\n",
       "    <tr>\n",
       "      <th>Iris-virginica</th>\n",
       "      <td>50.0</td>\n",
       "      <td>5.552</td>\n",
       "      <td>0.551895</td>\n",
       "      <td>4.5</td>\n",
       "      <td>5.1</td>\n",
       "      <td>5.55</td>\n",
       "      <td>5.875</td>\n",
       "      <td>6.9</td>\n",
       "    </tr>\n",
       "  </tbody>\n",
       "</table>\n",
       "</div>"
      ],
      "text/plain": [
       "                 count   mean       std  min  25%   50%    75%  max\n",
       "class                                                              \n",
       "Iris-setosa       50.0  1.464  0.173511  1.0  1.4  1.50  1.575  1.9\n",
       "Iris-versicolor   50.0  4.260  0.469911  3.0  4.0  4.35  4.600  5.1\n",
       "Iris-virginica    50.0  5.552  0.551895  4.5  5.1  5.55  5.875  6.9"
      ]
     },
     "execution_count": 71,
     "metadata": {},
     "output_type": "execute_result"
    }
   ],
   "source": [
    "df.groupby('class')['petallength'].describe()"
   ]
  }
 ],
 "metadata": {
  "kernelspec": {
   "display_name": "Python 3",
   "language": "python",
   "name": "python3"
  },
  "language_info": {
   "codemirror_mode": {
    "name": "ipython",
    "version": 3
   },
   "file_extension": ".py",
   "mimetype": "text/x-python",
   "name": "python",
   "nbconvert_exporter": "python",
   "pygments_lexer": "ipython3",
   "version": "3.7.1"
  }
 },
 "nbformat": 4,
 "nbformat_minor": 2
}
