{
 "cells": [
  {
   "cell_type": "markdown",
   "metadata": {},
   "source": [
    "# 图形界面THinter"
   ]
  },
  {
   "cell_type": "markdown",
   "metadata": {},
   "source": [
    "Python自带的库是支持Tk的Tkinter，使用Tkinter，无需安装任何包，就可以直接使用。本章简单介绍如何使用Tkinter进行GUI编程。"
   ]
  },
  {
   "cell_type": "markdown",
   "metadata": {},
   "source": [
    "我们来梳理一下概念：\n",
    "\n",
    "我们编写的Python代码会调用内置的Tkinter，Tkinter封装了访问Tk的接口；\n",
    "\n",
    "Tk是一个图形库，支持多个操作系统，使用Tcl语言开发；\n",
    "\n",
    "Tk会调用操作系统提供的本地GUI接口，完成最终的GUI。\n",
    "\n",
    "所以，我们的代码只需要调用Tkinter提供的接口就可以了。"
   ]
  },
  {
   "cell_type": "markdown",
   "metadata": {},
   "source": [
    "最初的基本使用是这样的："
   ]
  },
  {
   "cell_type": "code",
   "execution_count": 3,
   "metadata": {},
   "outputs": [],
   "source": [
    "class Application(Frame):\n",
    "    def __init__(self, master=None):\n",
    "        Frame.__init__(self, master)\n",
    "        self.pack()\n",
    "        self.createWidgets()\n",
    "\n",
    "    def createWidgets(self):\n",
    "        self.helloLabel = Label(self, text='Hello, world!')\n",
    "        self.helloLabel.pack()\n",
    "        self.quitButton = Button(self, text='Quit', command=self.quit)\n",
    "        self.quitButton.pack()\n",
    "        \n",
    "app = Application()\n",
    "# 设置窗口标题:\n",
    "app.master.title('Hello World')\n",
    "# 主消息循环:\n",
    "app.mainloop()"
   ]
  },
  {
   "cell_type": "markdown",
   "metadata": {},
   "source": [
    "在GUI中，每个Button、Label、输入框等，都是一个Widget。Frame则是可以容纳其他Widget的Widget，所有的Widget组合起来就是一棵树。\n",
    "\n",
    "pack()方法把Widget加入到父容器中，并实现布局。pack()是最简单的布局，grid()可以实现更复杂的布局。\n",
    "\n",
    "在createWidgets()方法中，我们创建一个Label和一个Button，当Button被点击时，触发self.quit()使程序退出。"
   ]
  },
  {
   "cell_type": "code",
   "execution_count": 1,
   "metadata": {},
   "outputs": [],
   "source": [
    "from tkinter import *\n",
    "import tkinter.messagebox as messagebox\n",
    "\n",
    "class Application(Frame):\n",
    "    def __init__(self, master=None):\n",
    "        Frame.__init__(self, master)\n",
    "        self.pack()\n",
    "        self.createWidgets()\n",
    "\n",
    "    def createWidgets(self):\n",
    "        self.nameInput = Entry(self)\n",
    "        self.nameInput.pack()\n",
    "        self.alertButton = Button(self, text='Hello', command=self.hello)\n",
    "        self.alertButton.pack()\n",
    "\n",
    "    def hello(self):\n",
    "        name = self.nameInput.get() or 'world'\n",
    "        messagebox.showinfo('Message', 'Hello, %s' % name)\n",
    "\n",
    "app = Application()\n",
    "# 设置窗口标题:\n",
    "app.master.title('Hello World')\n",
    "# 主消息循环:\n",
    "app.mainloop()"
   ]
  }
 ],
 "metadata": {
  "kernelspec": {
   "display_name": "Python 3",
   "language": "python",
   "name": "python3"
  },
  "language_info": {
   "codemirror_mode": {
    "name": "ipython",
    "version": 3
   },
   "file_extension": ".py",
   "mimetype": "text/x-python",
   "name": "python",
   "nbconvert_exporter": "python",
   "pygments_lexer": "ipython3",
   "version": "3.7.0b5"
  },
  "toc": {
   "base_numbering": 1,
   "nav_menu": {},
   "number_sections": true,
   "sideBar": true,
   "skip_h1_title": false,
   "title_cell": "Table of Contents",
   "title_sidebar": "Contents",
   "toc_cell": false,
   "toc_position": {},
   "toc_section_display": true,
   "toc_window_display": false
  }
 },
 "nbformat": 4,
 "nbformat_minor": 2
}
